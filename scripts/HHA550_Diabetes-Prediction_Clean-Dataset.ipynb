{
 "cells": [
  {
   "attachments": {},
   "cell_type": "markdown",
   "id": "c804435d",
   "metadata": {},
   "source": [
    "# HHA550_Diabetes Prediction Dataset\n",
    "\n",
    "## Healtcare-dataset-stroke-data\n",
    "\n",
    "#### (Check Modules folders for csv and ipynb for each class)"
   ]
  },
  {
   "attachments": {},
   "cell_type": "markdown",
   "id": "cdf8f594",
   "metadata": {},
   "source": [
    "# DATA\n",
    "## Diabetes Prediction Dataset\n"
   ]
  },
  {
   "attachments": {},
   "cell_type": "markdown",
   "id": "7ac477eb",
   "metadata": {},
   "source": [
    "# .CSV Data\n",
    "### cleaned_diabetic_data.csv"
   ]
  },
  {
   "cell_type": "markdown",
   "id": "d3d98fc5",
   "metadata": {},
   "source": [
    "# IMPORTING Everthing"
   ]
  },
  {
   "cell_type": "code",
   "execution_count": 93,
   "id": "a10f0b17",
   "metadata": {},
   "outputs": [],
   "source": [
    "# Commands to install some of the libraries in-case if they are not installed\n",
    "# Any other library that needs to be installed just use: !pip install <library name>\n",
    "# !pip install seaborn\n",
    "# !pip install missingno\n",
    "# !pip install xgboost\n",
    "# !pip install catboost\n",
    "# !pip install regex\n",
    "# !pip install sklearn\n",
    "# !pip install pandas\n",
    "# !pip install numpy\n",
    "# !pip install imblearn\n",
    "# !pip install lightgbm"
   ]
  },
  {
   "cell_type": "code",
   "execution_count": 94,
   "id": "4e845f77",
   "metadata": {},
   "outputs": [],
   "source": [
    "import pandas as pd   # data processing, CSV file I/O (e.g. pd.read_csv)\n",
    "import numpy as np   # linear algebra\n",
    "import matplotlib.pyplot as plt  #graphs and plots\n",
    "import seaborn as sns   #data visualizations \n",
    "import csv # Some extra functionalities for csv  files - reading it as a dictionary\n",
    "from lightgbm import LGBMClassifier #sklearn is for machine learning and statistical modeling including classification, regression, clustering and dimensionality reduction \n",
    "\n",
    "from sklearn.model_selection import train_test_split, cross_validate   #break up dataset into train and test sets\n",
    "\n",
    "from sklearn.linear_model import LogisticRegression\n",
    "from sklearn.ensemble import RandomForestClassifier\n",
    "from sklearn.model_selection import cross_val_score\n",
    "from sklearn.preprocessing import StandardScaler, MinMaxScaler\n",
    "\n",
    "\n",
    "# importing python library for working with missing data\n",
    "import missingno as msno\n",
    "# To install missingno use: !pip install missingno\n",
    "import re    # This library is used to perform regex pattern matching\n",
    "\n",
    "# import various functions from sklearn\n",
    "from sklearn.linear_model import LogisticRegression\n",
    "from sklearn.neighbors import KNeighborsClassifier\n",
    "from sklearn.tree import DecisionTreeClassifier\n",
    "from sklearn.ensemble import RandomForestClassifier\n",
    "from sklearn.svm import LinearSVC\n",
    "from sklearn.ensemble import GradientBoostingClassifier\n",
    "from catboost import CatBoostClassifier\n",
    "import xgboost as xgb\n",
    "from sklearn.metrics import roc_auc_score, accuracy_score, precision_score, recall_score, classification_report, make_scorer\n",
    "from sklearn.linear_model import SGDClassifier\n",
    "from sklearn.model_selection import GridSearchCV, RandomizedSearchCV, train_test_split"
   ]
  },
  {
   "cell_type": "markdown",
   "id": "910c0044",
   "metadata": {},
   "source": [
    "Import additional items as needed...\n",
    "We may not use them all in this course..."
   ]
  },
  {
   "cell_type": "code",
   "execution_count": 95,
   "id": "ee3d031a",
   "metadata": {},
   "outputs": [],
   "source": [
    "from sklearn.model_selection import KFold,cross_val_score, RepeatedStratifiedKFold,StratifiedKFold\n",
    "from sklearn.impute import SimpleImputer\n",
    "from sklearn.pipeline import Pipeline\n",
    "from sklearn.discriminant_analysis import LinearDiscriminantAnalysis\n",
    "from sklearn.preprocessing import OneHotEncoder,StandardScaler,PowerTransformer\n",
    "from sklearn.compose import ColumnTransformer\n",
    "from sklearn.pipeline import Pipeline\n",
    "from sklearn.impute import KNNImputer,SimpleImputer\n",
    "from sklearn.compose import make_column_transformer\n",
    "from imblearn.pipeline import make_pipeline\n",
    "from sklearn.svm import SVC\n",
    "from sklearn.impute import SimpleImputer\n",
    "from sklearn.dummy import DummyClassifier\n",
    "from imblearn.over_sampling import SMOTE\n",
    "from sklearn.neighbors import KNeighborsClassifier\n",
    "from sklearn.metrics import confusion_matrix, accuracy_score, balanced_accuracy_score,\\\n",
    "                            precision_score, recall_score, roc_auc_score,\\\n",
    "                            ConfusionMatrixDisplay, classification_report, RocCurveDisplay, f1_score\n",
    "from sklearn.linear_model import LinearRegression\n",
    "import plotly \n",
    "import plotly.express as px\n",
    "import plotly.graph_objs as go\n",
    "import plotly.offline as py\n",
    "from plotly.offline import iplot\n",
    "from plotly.subplots import make_subplots\n",
    "import plotly.figure_factory as ff\n",
    "\n",
    "import warnings\n",
    "warnings.filterwarnings(\"ignore\")"
   ]
  },
  {
   "cell_type": "markdown",
   "id": "9136179d",
   "metadata": {},
   "source": [
    "* If from imblearn.oversampling import SMOTE does not load use\n",
    "    `conda install -c conda-forge imbalanced-learn`\n",
    "* Then rerun\n",
    "    `from imblearn.over_sampling import SMOTE`"
   ]
  },
  {
   "cell_type": "markdown",
   "id": "eb1b5bfa",
   "metadata": {},
   "source": [
    "# Exploratory Data Analysis (EDA)"
   ]
  },
  {
   "cell_type": "markdown",
   "id": "2fe20041",
   "metadata": {},
   "source": [
    "## Start with Loading the CSV Data"
   ]
  },
  {
   "cell_type": "code",
   "execution_count": 96,
   "id": "def56f62",
   "metadata": {},
   "outputs": [],
   "source": [
    "dm = pd.read_csv('/home/lozo/Developer/HHA550_Analysis/data/cleaned_diabetic_data1.csv')\n",
    "values_used = dm[['readmitted', 'age', 'weight', 'diabetesMed']]"
   ]
  },
  {
   "cell_type": "markdown",
   "id": "0d3afce7",
   "metadata": {},
   "source": [
    "# Breaking the data up into Train & Test"
   ]
  },
  {
   "cell_type": "code",
   "execution_count": 97,
   "id": "23150ab7",
   "metadata": {},
   "outputs": [],
   "source": [
    "train_df, valid_df, test_df = np.split(dm.sample(frac=1, random_state=42), \n",
    "                                        [int(.7*len(dm)), int(0.85*len(dm))])\n",
    "train_df = train_df.reset_index(drop = True)\n",
    "valid_df = valid_df.reset_index(drop = True)\n",
    "test_df = test_df.reset_index(drop = True)"
   ]
  },
  {
   "cell_type": "code",
   "execution_count": 98,
   "id": "ae84eff3",
   "metadata": {},
   "outputs": [
    {
     "data": {
      "text/plain": [
       "readmitted\n",
       "0    66221\n",
       "1    35545\n",
       "Name: count, dtype: int64"
      ]
     },
     "execution_count": 98,
     "metadata": {},
     "output_type": "execute_result"
    }
   ],
   "source": [
    "dm.readmitted.value_counts()"
   ]
  },
  {
   "cell_type": "code",
   "execution_count": 99,
   "id": "689c1912",
   "metadata": {},
   "outputs": [
    {
     "data": {
      "text/plain": [
       "readmitted\n",
       "0    46318\n",
       "1    24918\n",
       "Name: count, dtype: int64"
      ]
     },
     "execution_count": 99,
     "metadata": {},
     "output_type": "execute_result"
    }
   ],
   "source": [
    "train_df.readmitted.value_counts()"
   ]
  },
  {
   "cell_type": "code",
   "execution_count": 100,
   "id": "546fc97f",
   "metadata": {},
   "outputs": [
    {
     "data": {
      "text/plain": [
       "readmitted\n",
       "0    10008\n",
       "1     5257\n",
       "Name: count, dtype: int64"
      ]
     },
     "execution_count": 100,
     "metadata": {},
     "output_type": "execute_result"
    }
   ],
   "source": [
    "valid_df.readmitted.value_counts()"
   ]
  },
  {
   "cell_type": "code",
   "execution_count": 101,
   "id": "6d1b8408",
   "metadata": {},
   "outputs": [
    {
     "data": {
      "text/plain": [
       "readmitted\n",
       "0    9895\n",
       "1    5370\n",
       "Name: count, dtype: int64"
      ]
     },
     "execution_count": 101,
     "metadata": {},
     "output_type": "execute_result"
    }
   ],
   "source": [
    "test_df.readmitted.value_counts()"
   ]
  },
  {
   "cell_type": "markdown",
   "id": "0cad6054",
   "metadata": {},
   "source": [
    "# Treating the Imbalance in the Data"
   ]
  },
  {
   "cell_type": "markdown",
   "id": "b80ce827",
   "metadata": {},
   "source": [
    "Imbalance in the data means that one of the classes in the data is too less as compared to the others. Typically, it is better to balance the data in some way to give the positives more weight. There are 3 strategies that are typically utilized:\n",
    "\n",
    "* Sub-sample the more dominant class: use a random subset of the negatives\n",
    "* Over-sample the imbalanced class: use the same positive samples multiple times\n",
    "* Create synthetic positive data\n",
    "\n",
    "Usually, you will want to use the latter two methods if you only have a handful of positive cases. Since we have a few thousand positive cases, let's use the sub-sample approach. Here, we will create a balanced training data set that has 50% positive and 50% negative. You can also play with this ratio to see if you can get an improvement."
   ]
  },
  {
   "cell_type": "code",
   "execution_count": 102,
   "id": "c7d35fb6",
   "metadata": {},
   "outputs": [],
   "source": [
    "def calc_prevalence(y_actual):\n",
    "    \n",
    "    '''\n",
    "    This function is to understand the ratio/distribution of the classes that we are going to predict for.\n",
    "    \n",
    "    Params:\n",
    "    1. y_actual: The target feature\n",
    "    \n",
    "    Return:\n",
    "    1. (sum(y_actual)/len(y_actual)): The ratio of the postive class in the comlpete data.\n",
    "    '''\n",
    "    \n",
    "    return (sum(y_actual)/len(y_actual))"
   ]
  },
  {
   "cell_type": "code",
   "execution_count": 103,
   "id": "6a9dfc36",
   "metadata": {},
   "outputs": [
    {
     "name": "stdout",
     "output_type": "stream",
     "text": [
      "Train balanced prevalence(n = 49836):0.500\n"
     ]
    }
   ],
   "source": [
    "# split the training data into positive and negative\n",
    "rows_pos = train_df.readmitted == 1\n",
    "df_train_pos = train_df.loc[rows_pos]\n",
    "df_train_neg = train_df.loc[~rows_pos]\n",
    "\n",
    "# merge the balanced data\n",
    "dm_df_balanced = pd.concat([df_train_pos, df_train_neg.sample(n = len(df_train_pos), random_state = 111)],axis = 0)\n",
    "\n",
    "# shuffle the order of training samples \n",
    "dm_df_balanced = dm_df_balanced.sample(n = len(dm_df_balanced), random_state = 42).reset_index(drop = True)\n",
    "\n",
    "print('Train balanced prevalence(n = %d):%.3f'%(len(dm_df_balanced), \\\n",
    "                                                calc_prevalence(dm_df_balanced.readmitted.values)))"
   ]
  },
  {
   "cell_type": "code",
   "execution_count": 104,
   "id": "938bbaef",
   "metadata": {},
   "outputs": [
    {
     "data": {
      "text/plain": [
       "readmitted\n",
       "1    24918\n",
       "0    24918\n",
       "Name: count, dtype: int64"
      ]
     },
     "execution_count": 104,
     "metadata": {},
     "output_type": "execute_result"
    }
   ],
   "source": [
    "dm_df_balanced.readmitted.value_counts()"
   ]
  },
  {
   "cell_type": "code",
   "execution_count": 105,
   "id": "7590ce92",
   "metadata": {},
   "outputs": [],
   "source": [
    "X_train = dm_df_balanced.drop('readmitted',axis=1)\n",
    "\n",
    "y_train = dm_df_balanced['readmitted']\n",
    "\n",
    "X_valid = valid_df.drop('readmitted',axis=1)\n",
    "\n",
    "y_valid = valid_df['readmitted']\n",
    "\n",
    "X_test = test_df.drop('readmitted',axis=1)\n",
    "\n",
    "y_test = test_df['readmitted']"
   ]
  },
  {
   "cell_type": "code",
   "execution_count": 106,
   "id": "37b5c305",
   "metadata": {},
   "outputs": [],
   "source": [
    "scaler=StandardScaler()\n",
    "X_train[['age', 'A1Cresult', 'diabetesMed', 'time_in_hospital', 'number_diagnoses']] = pd.DataFrame(scaler.fit_transform(X_train[['age', 'A1Cresult', 'diabetesMed', 'time_in_hospital', 'number_diagnoses']]),columns=['age', 'A1Cresult', 'diabetesMed', 'time_in_hospital', 'number_diagnoses'])\n",
    "X_valid[['age', 'A1Cresult', 'diabetesMed', 'time_in_hospital', 'number_diagnoses']] = pd.DataFrame(scaler.transform(X_valid[['age', 'A1Cresult', 'diabetesMed', 'time_in_hospital', 'number_diagnoses']]),columns=['age', 'A1Cresult', 'diabetesMed', 'time_in_hospital', 'number_diagnoses'])\n",
    "X_test[['age', 'A1Cresult', 'diabetesMed', 'time_in_hospital', 'number_diagnoses']] = pd.DataFrame(scaler.transform(X_test[['age', 'A1Cresult', 'diabetesMed', 'time_in_hospital', 'number_diagnoses']]),columns=['age', 'A1Cresult', 'diabetesMed', 'time_in_hospital', 'number_diagnoses'])"
   ]
  },
  {
   "cell_type": "markdown",
   "id": "9b1e5723",
   "metadata": {},
   "source": [
    "# Creating and Understanding Models"
   ]
  },
  {
   "cell_type": "code",
   "execution_count": 107,
   "id": "ecf8b577",
   "metadata": {},
   "outputs": [],
   "source": [
    "def calc_specificity(y_actual, y_pred, thresh):\n",
    "    # calculates specificity\n",
    "    return sum((y_pred < thresh) & (y_actual == 0)) /sum(y_actual ==0)\n",
    "\n",
    "def print_report(y_actual, y_pred, thresh = 0.5):\n",
    "    \n",
    "    '''\n",
    "    This function calculates all the metrics to asses the machine learning models.\n",
    "    \n",
    "    Params:\n",
    "    1. y_actual: The actual values for the target variable.\n",
    "    2. y_pred: The predicted values for the target variable.\n",
    "    3. thresh: The threshold for the probability to be considered as a positive class. Default value 0.5\n",
    "    \n",
    "    Return:\n",
    "    1. AUC\n",
    "    2. Accuracy\n",
    "    3. Recall\n",
    "    4. Precision\n",
    "    5. Specificity\n",
    "    '''\n",
    "    \n",
    "    auc = roc_auc_score(y_actual, y_pred)\n",
    "    accuracy = accuracy_score(y_actual, (y_pred > thresh))\n",
    "    recall = recall_score(y_actual, (y_pred > thresh))\n",
    "    precision = precision_score(y_actual, (y_pred > thresh))\n",
    "    specificity = calc_specificity(y_actual, y_pred, thresh)\n",
    "    print('AUC:%.3f'%auc)\n",
    "    print('accuracy:%.3f'%accuracy)\n",
    "    print('recall:%.3f'%recall)\n",
    "    print('precision:%.3f'%precision)\n",
    "    print('specificity:%.3f'%specificity)\n",
    "    print('prevalence:%.3f'%calc_prevalence(y_actual))\n",
    "    print(' ')\n",
    "    return auc, accuracy, recall, precision, specificity"
   ]
  },
  {
   "cell_type": "markdown",
   "id": "3ba8c8ea",
   "metadata": {},
   "source": [
    "## Linear Regression"
   ]
  },
  {
   "cell_type": "code",
   "execution_count": 108,
   "id": "d02dbec4",
   "metadata": {},
   "outputs": [],
   "source": [
    "lnr = LinearRegression()\n",
    "lnr.fit(X_train, y_train)\n",
    "\n",
    "y_valid_preds = lnr.predict(X_valid)"
   ]
  },
  {
   "cell_type": "code",
   "execution_count": 109,
   "id": "ef7f15a8",
   "metadata": {},
   "outputs": [
    {
     "data": {
      "text/plain": [
       "array([0.61838194, 0.56696315, 0.61497011, ..., 0.43422883, 0.57862396,\n",
       "       0.53315222])"
      ]
     },
     "execution_count": 109,
     "metadata": {},
     "output_type": "execute_result"
    }
   ],
   "source": [
    "y_valid_preds"
   ]
  },
  {
   "cell_type": "code",
   "execution_count": 110,
   "id": "fb1254ab",
   "metadata": {},
   "outputs": [
    {
     "data": {
      "text/html": [
       "<div>\n",
       "<style scoped>\n",
       "    .dataframe tbody tr th:only-of-type {\n",
       "        vertical-align: middle;\n",
       "    }\n",
       "\n",
       "    .dataframe tbody tr th {\n",
       "        vertical-align: top;\n",
       "    }\n",
       "\n",
       "    .dataframe thead th {\n",
       "        text-align: right;\n",
       "    }\n",
       "</style>\n",
       "<table border=\"1\" class=\"dataframe\">\n",
       "  <thead>\n",
       "    <tr style=\"text-align: right;\">\n",
       "      <th></th>\n",
       "      <th>Actual</th>\n",
       "      <th>Predicted</th>\n",
       "    </tr>\n",
       "  </thead>\n",
       "  <tbody>\n",
       "    <tr>\n",
       "      <th>5902</th>\n",
       "      <td>0</td>\n",
       "      <td>0.409445</td>\n",
       "    </tr>\n",
       "    <tr>\n",
       "      <th>2381</th>\n",
       "      <td>1</td>\n",
       "      <td>0.421948</td>\n",
       "    </tr>\n",
       "    <tr>\n",
       "      <th>6038</th>\n",
       "      <td>0</td>\n",
       "      <td>0.290937</td>\n",
       "    </tr>\n",
       "    <tr>\n",
       "      <th>6009</th>\n",
       "      <td>0</td>\n",
       "      <td>0.765729</td>\n",
       "    </tr>\n",
       "    <tr>\n",
       "      <th>10495</th>\n",
       "      <td>0</td>\n",
       "      <td>0.481239</td>\n",
       "    </tr>\n",
       "    <tr>\n",
       "      <th>12263</th>\n",
       "      <td>0</td>\n",
       "      <td>0.639892</td>\n",
       "    </tr>\n",
       "    <tr>\n",
       "      <th>1471</th>\n",
       "      <td>0</td>\n",
       "      <td>0.575239</td>\n",
       "    </tr>\n",
       "    <tr>\n",
       "      <th>3782</th>\n",
       "      <td>1</td>\n",
       "      <td>0.544686</td>\n",
       "    </tr>\n",
       "    <tr>\n",
       "      <th>6284</th>\n",
       "      <td>0</td>\n",
       "      <td>0.649792</td>\n",
       "    </tr>\n",
       "    <tr>\n",
       "      <th>2898</th>\n",
       "      <td>0</td>\n",
       "      <td>0.432148</td>\n",
       "    </tr>\n",
       "  </tbody>\n",
       "</table>\n",
       "</div>"
      ],
      "text/plain": [
       "       Actual  Predicted\n",
       "5902        0   0.409445\n",
       "2381        1   0.421948\n",
       "6038        0   0.290937\n",
       "6009        0   0.765729\n",
       "10495       0   0.481239\n",
       "12263       0   0.639892\n",
       "1471        0   0.575239\n",
       "3782        1   0.544686\n",
       "6284        0   0.649792\n",
       "2898        0   0.432148"
      ]
     },
     "execution_count": 110,
     "metadata": {},
     "output_type": "execute_result"
    }
   ],
   "source": [
    "df_test = pd.DataFrame({'Actual': y_test, 'Predicted': y_valid_preds})\n",
    "df_test.sample(10)"
   ]
  },
  {
   "cell_type": "code",
   "execution_count": 111,
   "id": "0b640389",
   "metadata": {},
   "outputs": [
    {
     "name": "stdout",
     "output_type": "stream",
     "text": [
      "Mean absolute error: 0.50\n",
      "Mean squared error: 0.26\n",
      "Root mean squared error: 0.51\n"
     ]
    }
   ],
   "source": [
    "from sklearn.metrics import mean_absolute_error, mean_squared_error\n",
    "mae = mean_absolute_error(y_test, y_valid_preds)\n",
    "mse = mean_squared_error(y_test, y_valid_preds)\n",
    "rmse = np.sqrt(mse)\n",
    "\n",
    "print(f'Mean absolute error: {mae:.2f}')\n",
    "print(f'Mean squared error: {mse:.2f}')\n",
    "print(f'Root mean squared error: {rmse:.2f}')"
   ]
  },
  {
   "cell_type": "code",
   "execution_count": 112,
   "id": "c1d550d3",
   "metadata": {},
   "outputs": [
    {
     "name": "stdout",
     "output_type": "stream",
     "text": [
      "R²: -0.9681613176713797\n"
     ]
    }
   ],
   "source": [
    "actual_minus_predicted = sum((y_test - y_valid)**2)\n",
    "actual_minus_actual_mean = sum((y_test - y_test.mean())**2)\n",
    "r2 = 1 - actual_minus_predicted/actual_minus_actual_mean\n",
    "print('R²:', r2)"
   ]
  },
  {
   "cell_type": "markdown",
   "id": "457c7731",
   "metadata": {},
   "source": [
    "## Logistic Regression"
   ]
  },
  {
   "cell_type": "code",
   "execution_count": 113,
   "id": "5086c49a",
   "metadata": {},
   "outputs": [
    {
     "name": "stdout",
     "output_type": "stream",
     "text": [
      "Metrics for Validation data:\n",
      "AUC:0.634\n",
      "accuracy:0.603\n",
      "recall:0.581\n",
      "precision:0.442\n",
      "specificity:0.615\n",
      "prevalence:0.344\n",
      " \n"
     ]
    }
   ],
   "source": [
    "lr=LogisticRegression(random_state = 42, solver = 'newton-cg', max_iter = 200)\n",
    "lr.fit(X_train, y_train)\n",
    "\n",
    "y_valid_preds = lr.predict_proba(X_valid)[:,1]\n",
    "\n",
    "print('Metrics for Validation data:')\n",
    "\n",
    "lr_valid_auc, lr_valid_accuracy, lr_valid_recall, \\\n",
    "    lr_valid_precision, lr_valid_specificity = print_report(y_valid,y_valid_preds, 0.5)"
   ]
  },
  {
   "cell_type": "markdown",
   "id": "bdba01c6",
   "metadata": {},
   "source": [
    "## Explaining Results"
   ]
  },
  {
   "cell_type": "code",
   "execution_count": 114,
   "id": "a7f93713",
   "metadata": {},
   "outputs": [],
   "source": [
    "from IPython import display\n",
    "# display.Image(\"C:/Users/kaden/Desktop/HHA550_Stroke_Data/Explaining_Results.png\")"
   ]
  },
  {
   "cell_type": "markdown",
   "id": "4691cdbb",
   "metadata": {},
   "source": [
    "Lets look at some other models to see if we get better results."
   ]
  },
  {
   "cell_type": "markdown",
   "id": "3555e949",
   "metadata": {},
   "source": [
    "## KNN Model"
   ]
  },
  {
   "cell_type": "code",
   "execution_count": 115,
   "id": "cba627ad",
   "metadata": {},
   "outputs": [
    {
     "name": "stdout",
     "output_type": "stream",
     "text": [
      "AUC:0.621\n",
      "accuracy:0.570\n",
      "recall:0.631\n",
      "precision:0.418\n",
      "specificity:0.513\n",
      "prevalence:0.344\n",
      " \n"
     ]
    }
   ],
   "source": [
    "knn = KNeighborsClassifier(n_neighbors = 100)\n",
    "knn.fit(X_train, y_train)\n",
    "\n",
    "knn_preds = knn.predict_proba(X_valid)[:,1]\n",
    "\n",
    "lr_valid_auc, lr_valid_accuracy, lr_valid_recall, \\\n",
    "    lr_valid_precision, lr_valid_specificity = print_report(y_valid,knn_preds, 0.5)"
   ]
  },
  {
   "cell_type": "markdown",
   "id": "f2268172",
   "metadata": {},
   "source": [
    "## Stochastic Gradient Descent Model"
   ]
  },
  {
   "cell_type": "code",
   "execution_count": 116,
   "id": "167f592a",
   "metadata": {},
   "outputs": [
    {
     "name": "stdout",
     "output_type": "stream",
     "text": [
      "Stochastic Gradient Descent\n",
      "Validation:\n",
      "AUC:0.511\n",
      "accuracy:0.650\n",
      "recall:0.066\n",
      "precision:0.443\n",
      "specificity:0.956\n",
      "prevalence:0.344\n",
      " \n"
     ]
    }
   ],
   "source": [
    "sgdc=SGDClassifier(loss = 'log',alpha = 0.1,random_state = 42)\n",
    "sgdc.fit(X_train, y_train)\n",
    "\n",
    "sgd_preds = sgdc.predict_proba(X_valid)[:,1]\n",
    "\n",
    "print('Stochastic Gradient Descent')\n",
    "print('Validation:')\n",
    "sgdc_valid_auc, sgdc_valid_accuracy, sgdc_valid_recall, \\\n",
    "                sgdc_valid_precision, sgdc_valid_specificity = print_report(y_valid,sgd_preds, 0.5)"
   ]
  },
  {
   "cell_type": "markdown",
   "id": "4e841c95",
   "metadata": {},
   "source": [
    "## Decision Tree"
   ]
  },
  {
   "cell_type": "code",
   "execution_count": 117,
   "id": "5c524b7f",
   "metadata": {},
   "outputs": [
    {
     "name": "stdout",
     "output_type": "stream",
     "text": [
      "AUC:0.655\n",
      "accuracy:0.610\n",
      "recall:0.652\n",
      "precision:0.454\n",
      "specificity:0.580\n",
      "prevalence:0.344\n",
      " \n"
     ]
    }
   ],
   "source": [
    "dc_clf = DecisionTreeClassifier(random_state=42, max_depth = 10)\n",
    "dc_clf.fit(X_train, y_train)\n",
    "\n",
    "dc_preds_proba = dc_clf.predict_proba(X_valid)[:,1]\n",
    "dc_preds = dc_clf.predict(X_valid)\n",
    "\n",
    "lr_valid_auc, lr_valid_accuracy, lr_valid_recall, \\\n",
    "    lr_valid_precision, lr_valid_specificity = print_report(y_valid,dc_preds_proba, 0.5)"
   ]
  },
  {
   "cell_type": "markdown",
   "id": "a24a7e5b",
   "metadata": {},
   "source": [
    "## Random Forest"
   ]
  },
  {
   "cell_type": "code",
   "execution_count": 118,
   "id": "009ae20e",
   "metadata": {},
   "outputs": [
    {
     "name": "stdout",
     "output_type": "stream",
     "text": [
      "AUC:0.668\n",
      "accuracy:0.603\n",
      "recall:0.678\n",
      "precision:0.449\n",
      "specificity:0.563\n",
      "prevalence:0.344\n",
      " \n"
     ]
    }
   ],
   "source": [
    "rf_clf = RandomForestClassifier(random_state=111, max_depth = 6)\n",
    "\n",
    "rf_clf.fit(X_train, y_train)\n",
    "\n",
    "rf_preds = rf_clf.predict(X_valid)\n",
    "rf_preds_proba = rf_clf.predict_proba(X_valid)[:, 1]\n",
    "\n",
    "lr_valid_auc, lr_valid_accuracy, lr_valid_recall, \\\n",
    "    lr_valid_precision, lr_valid_specificity = print_report(y_valid,rf_preds_proba, 0.5)"
   ]
  },
  {
   "cell_type": "markdown",
   "id": "984ea500",
   "metadata": {},
   "source": [
    "## Linear SVC"
   ]
  },
  {
   "cell_type": "code",
   "execution_count": 119,
   "id": "893e28ff",
   "metadata": {},
   "outputs": [
    {
     "name": "stdout",
     "output_type": "stream",
     "text": [
      "AUC:0.510\n",
      "accuracy:0.361\n",
      "recall:0.934\n",
      "precision:0.343\n",
      "specificity:0.060\n",
      "prevalence:0.344\n",
      " \n"
     ]
    }
   ],
   "source": [
    "lsvc_clf = LinearSVC(random_state=111)\n",
    "lsvc_clf.fit(X_train, y_train)\n",
    "\n",
    "lsvc_preds = lsvc_clf.decision_function(X_valid)\n",
    "\n",
    "lr_valid_auc, lr_valid_accuracy, lr_valid_recall, \\\n",
    "    lr_valid_precision, lr_valid_specificity = print_report(y_valid,lsvc_preds, 0.5)"
   ]
  },
  {
   "cell_type": "markdown",
   "id": "1d2d1087",
   "metadata": {},
   "source": [
    "## Gradient Boosting Model"
   ]
  },
  {
   "cell_type": "code",
   "execution_count": 120,
   "id": "c6e1e3d5",
   "metadata": {},
   "outputs": [
    {
     "name": "stdout",
     "output_type": "stream",
     "text": [
      "AUC:0.674\n",
      "accuracy:0.619\n",
      "recall:0.668\n",
      "precision:0.463\n",
      "specificity:0.593\n",
      "prevalence:0.344\n",
      " \n"
     ]
    }
   ],
   "source": [
    "gb_clf = GradientBoostingClassifier(n_estimators = 100, criterion='friedman_mse', learning_rate = 1.0, max_depth = 3,\\\n",
    "                                    random_state = 111)\n",
    "\n",
    "gb_clf.fit(X_train, y_train)\n",
    "gb_preds = gb_clf.predict(X_valid)\n",
    "gb_preds_proba = gb_clf.predict_proba(X_valid)[:, 1]\n",
    "\n",
    "lr_valid_auc, lr_valid_accuracy, lr_valid_recall, \\\n",
    "    lr_valid_precision, lr_valid_specificity = print_report(y_valid,gb_preds_proba, 0.5)"
   ]
  },
  {
   "cell_type": "markdown",
   "id": "bdfe0a53",
   "metadata": {},
   "source": [
    "## XGB Model"
   ]
  },
  {
   "cell_type": "code",
   "execution_count": 121,
   "id": "83f18546",
   "metadata": {},
   "outputs": [
    {
     "name": "stdout",
     "output_type": "stream",
     "text": [
      "AUC:0.679\n",
      "accuracy:0.618\n",
      "recall:0.662\n",
      "precision:0.462\n",
      "specificity:0.595\n",
      "prevalence:0.344\n",
      " \n"
     ]
    }
   ],
   "source": [
    "xgb_clf = xgb.XGBClassifier(max_depth=3, learning_rate = 1.0, use_label_encoder = False,\\\n",
    "                            eval_metric = 'logloss')\n",
    "xgb_clf.fit(X_train, y_train)\n",
    "\n",
    "xgb_preds = xgb_clf.predict(X_valid)\n",
    "xgb_preds_proba = xgb_clf.predict_proba(X_valid)[:, 1]\n",
    "\n",
    "lr_valid_auc, lr_valid_accuracy, lr_valid_recall, \\\n",
    "    lr_valid_precision, lr_valid_specificity = print_report(y_valid,xgb_preds_proba, 0.5)"
   ]
  },
  {
   "cell_type": "markdown",
   "id": "70bc6c12",
   "metadata": {},
   "source": [
    "## Catboost Model"
   ]
  },
  {
   "cell_type": "code",
   "execution_count": 122,
   "id": "bbba6d6d",
   "metadata": {
    "scrolled": true
   },
   "outputs": [
    {
     "name": "stdout",
     "output_type": "stream",
     "text": [
      "0:\tlearn: 0.6693807\ttotal: 6.28ms\tremaining: 1.25s\n",
      "1:\tlearn: 0.6550997\ttotal: 17.5ms\tremaining: 1.73s\n",
      "2:\tlearn: 0.6491181\ttotal: 19.9ms\tremaining: 1.31s\n",
      "3:\tlearn: 0.6461882\ttotal: 23.3ms\tremaining: 1.14s\n",
      "4:\tlearn: 0.6445407\ttotal: 30.7ms\tremaining: 1.2s\n",
      "5:\tlearn: 0.6431947\ttotal: 35.2ms\tremaining: 1.14s\n",
      "6:\tlearn: 0.6419997\ttotal: 37.8ms\tremaining: 1.04s\n",
      "7:\tlearn: 0.6406440\ttotal: 42ms\tremaining: 1.01s\n",
      "8:\tlearn: 0.6400043\ttotal: 48.1ms\tremaining: 1.02s\n",
      "9:\tlearn: 0.6394172\ttotal: 53.2ms\tremaining: 1.01s\n",
      "10:\tlearn: 0.6389228\ttotal: 57.8ms\tremaining: 992ms\n",
      "11:\tlearn: 0.6375604\ttotal: 60.7ms\tremaining: 951ms\n",
      "12:\tlearn: 0.6366012\ttotal: 64.5ms\tremaining: 928ms\n",
      "13:\tlearn: 0.6355434\ttotal: 66.9ms\tremaining: 889ms\n",
      "14:\tlearn: 0.6348097\ttotal: 71.2ms\tremaining: 878ms\n",
      "15:\tlearn: 0.6341190\ttotal: 75.6ms\tremaining: 870ms\n",
      "16:\tlearn: 0.6335321\ttotal: 79.1ms\tremaining: 851ms\n",
      "17:\tlearn: 0.6328463\ttotal: 81.9ms\tremaining: 828ms\n",
      "18:\tlearn: 0.6325282\ttotal: 83.8ms\tremaining: 799ms\n",
      "19:\tlearn: 0.6312655\ttotal: 86.5ms\tremaining: 778ms\n",
      "20:\tlearn: 0.6307484\ttotal: 88.8ms\tremaining: 757ms\n",
      "21:\tlearn: 0.6300669\ttotal: 91.4ms\tremaining: 739ms\n",
      "22:\tlearn: 0.6294878\ttotal: 93.7ms\tremaining: 721ms\n",
      "23:\tlearn: 0.6291048\ttotal: 95.6ms\tremaining: 701ms\n",
      "24:\tlearn: 0.6288680\ttotal: 98.4ms\tremaining: 689ms\n",
      "25:\tlearn: 0.6282422\ttotal: 101ms\tremaining: 676ms\n",
      "26:\tlearn: 0.6279875\ttotal: 104ms\tremaining: 667ms\n",
      "27:\tlearn: 0.6271923\ttotal: 106ms\tremaining: 652ms\n",
      "28:\tlearn: 0.6268294\ttotal: 109ms\tremaining: 644ms\n",
      "29:\tlearn: 0.6265026\ttotal: 112ms\tremaining: 632ms\n",
      "30:\tlearn: 0.6260343\ttotal: 113ms\tremaining: 618ms\n",
      "31:\tlearn: 0.6257185\ttotal: 118ms\tremaining: 618ms\n",
      "32:\tlearn: 0.6252142\ttotal: 121ms\tremaining: 611ms\n",
      "33:\tlearn: 0.6247770\ttotal: 123ms\tremaining: 600ms\n",
      "34:\tlearn: 0.6242866\ttotal: 125ms\tremaining: 588ms\n",
      "35:\tlearn: 0.6238532\ttotal: 127ms\tremaining: 581ms\n",
      "36:\tlearn: 0.6236292\ttotal: 131ms\tremaining: 578ms\n",
      "37:\tlearn: 0.6233833\ttotal: 134ms\tremaining: 570ms\n",
      "38:\tlearn: 0.6229718\ttotal: 135ms\tremaining: 559ms\n",
      "39:\tlearn: 0.6224777\ttotal: 139ms\tremaining: 558ms\n",
      "40:\tlearn: 0.6222144\ttotal: 142ms\tremaining: 550ms\n",
      "41:\tlearn: 0.6220634\ttotal: 145ms\tremaining: 544ms\n",
      "42:\tlearn: 0.6218105\ttotal: 147ms\tremaining: 537ms\n",
      "43:\tlearn: 0.6215064\ttotal: 150ms\tremaining: 531ms\n",
      "44:\tlearn: 0.6213671\ttotal: 153ms\tremaining: 526ms\n",
      "45:\tlearn: 0.6211370\ttotal: 156ms\tremaining: 521ms\n",
      "46:\tlearn: 0.6208862\ttotal: 160ms\tremaining: 520ms\n",
      "47:\tlearn: 0.6206299\ttotal: 164ms\tremaining: 518ms\n",
      "48:\tlearn: 0.6202939\ttotal: 166ms\tremaining: 512ms\n",
      "49:\tlearn: 0.6198943\ttotal: 169ms\tremaining: 507ms\n",
      "50:\tlearn: 0.6196157\ttotal: 171ms\tremaining: 500ms\n",
      "51:\tlearn: 0.6194393\ttotal: 175ms\tremaining: 499ms\n",
      "52:\tlearn: 0.6191754\ttotal: 178ms\tremaining: 493ms\n",
      "53:\tlearn: 0.6190098\ttotal: 181ms\tremaining: 488ms\n",
      "54:\tlearn: 0.6186356\ttotal: 182ms\tremaining: 481ms\n",
      "55:\tlearn: 0.6183702\ttotal: 185ms\tremaining: 476ms\n",
      "56:\tlearn: 0.6181977\ttotal: 187ms\tremaining: 469ms\n",
      "57:\tlearn: 0.6179361\ttotal: 190ms\tremaining: 465ms\n",
      "58:\tlearn: 0.6177706\ttotal: 192ms\tremaining: 459ms\n",
      "59:\tlearn: 0.6176168\ttotal: 194ms\tremaining: 453ms\n",
      "60:\tlearn: 0.6174388\ttotal: 197ms\tremaining: 449ms\n",
      "61:\tlearn: 0.6171927\ttotal: 199ms\tremaining: 443ms\n",
      "62:\tlearn: 0.6169379\ttotal: 202ms\tremaining: 438ms\n",
      "63:\tlearn: 0.6168363\ttotal: 206ms\tremaining: 437ms\n",
      "64:\tlearn: 0.6164493\ttotal: 209ms\tremaining: 434ms\n",
      "65:\tlearn: 0.6162444\ttotal: 211ms\tremaining: 428ms\n",
      "66:\tlearn: 0.6160451\ttotal: 213ms\tremaining: 423ms\n",
      "67:\tlearn: 0.6159516\ttotal: 216ms\tremaining: 420ms\n",
      "68:\tlearn: 0.6157259\ttotal: 221ms\tremaining: 419ms\n",
      "69:\tlearn: 0.6155404\ttotal: 224ms\tremaining: 415ms\n",
      "70:\tlearn: 0.6152547\ttotal: 226ms\tremaining: 411ms\n",
      "71:\tlearn: 0.6150190\ttotal: 229ms\tremaining: 406ms\n",
      "72:\tlearn: 0.6148698\ttotal: 231ms\tremaining: 401ms\n",
      "73:\tlearn: 0.6147268\ttotal: 235ms\tremaining: 399ms\n",
      "74:\tlearn: 0.6144872\ttotal: 237ms\tremaining: 395ms\n",
      "75:\tlearn: 0.6143512\ttotal: 239ms\tremaining: 390ms\n",
      "76:\tlearn: 0.6142786\ttotal: 241ms\tremaining: 385ms\n",
      "77:\tlearn: 0.6139779\ttotal: 244ms\tremaining: 382ms\n",
      "78:\tlearn: 0.6138435\ttotal: 247ms\tremaining: 378ms\n",
      "79:\tlearn: 0.6136240\ttotal: 250ms\tremaining: 374ms\n",
      "80:\tlearn: 0.6133965\ttotal: 253ms\tremaining: 371ms\n",
      "81:\tlearn: 0.6131295\ttotal: 255ms\tremaining: 367ms\n",
      "82:\tlearn: 0.6129502\ttotal: 257ms\tremaining: 363ms\n",
      "83:\tlearn: 0.6128790\ttotal: 260ms\tremaining: 358ms\n",
      "84:\tlearn: 0.6126408\ttotal: 262ms\tremaining: 355ms\n",
      "85:\tlearn: 0.6123750\ttotal: 264ms\tremaining: 350ms\n",
      "86:\tlearn: 0.6122196\ttotal: 268ms\tremaining: 347ms\n",
      "87:\tlearn: 0.6120490\ttotal: 270ms\tremaining: 343ms\n",
      "88:\tlearn: 0.6119669\ttotal: 273ms\tremaining: 341ms\n",
      "89:\tlearn: 0.6117341\ttotal: 276ms\tremaining: 337ms\n",
      "90:\tlearn: 0.6115886\ttotal: 279ms\tremaining: 335ms\n",
      "91:\tlearn: 0.6113485\ttotal: 282ms\tremaining: 332ms\n",
      "92:\tlearn: 0.6112167\ttotal: 285ms\tremaining: 328ms\n",
      "93:\tlearn: 0.6110406\ttotal: 288ms\tremaining: 325ms\n",
      "94:\tlearn: 0.6107906\ttotal: 293ms\tremaining: 324ms\n",
      "95:\tlearn: 0.6106294\ttotal: 297ms\tremaining: 322ms\n",
      "96:\tlearn: 0.6104547\ttotal: 300ms\tremaining: 318ms\n",
      "97:\tlearn: 0.6103154\ttotal: 306ms\tremaining: 318ms\n",
      "98:\tlearn: 0.6101764\ttotal: 312ms\tremaining: 319ms\n",
      "99:\tlearn: 0.6099768\ttotal: 317ms\tremaining: 317ms\n",
      "100:\tlearn: 0.6098048\ttotal: 323ms\tremaining: 316ms\n",
      "101:\tlearn: 0.6095646\ttotal: 327ms\tremaining: 314ms\n",
      "102:\tlearn: 0.6093575\ttotal: 329ms\tremaining: 310ms\n",
      "103:\tlearn: 0.6091427\ttotal: 333ms\tremaining: 307ms\n",
      "104:\tlearn: 0.6089554\ttotal: 337ms\tremaining: 305ms\n",
      "105:\tlearn: 0.6087751\ttotal: 341ms\tremaining: 303ms\n",
      "106:\tlearn: 0.6085858\ttotal: 345ms\tremaining: 300ms\n",
      "107:\tlearn: 0.6083825\ttotal: 349ms\tremaining: 297ms\n",
      "108:\tlearn: 0.6078775\ttotal: 352ms\tremaining: 294ms\n",
      "109:\tlearn: 0.6077818\ttotal: 355ms\tremaining: 291ms\n",
      "110:\tlearn: 0.6075792\ttotal: 357ms\tremaining: 287ms\n",
      "111:\tlearn: 0.6074435\ttotal: 360ms\tremaining: 283ms\n",
      "112:\tlearn: 0.6072515\ttotal: 363ms\tremaining: 279ms\n",
      "113:\tlearn: 0.6070857\ttotal: 366ms\tremaining: 276ms\n",
      "114:\tlearn: 0.6068869\ttotal: 369ms\tremaining: 273ms\n",
      "115:\tlearn: 0.6067849\ttotal: 372ms\tremaining: 269ms\n",
      "116:\tlearn: 0.6062598\ttotal: 375ms\tremaining: 266ms\n",
      "117:\tlearn: 0.6061210\ttotal: 378ms\tremaining: 263ms\n",
      "118:\tlearn: 0.6059455\ttotal: 381ms\tremaining: 260ms\n",
      "119:\tlearn: 0.6058324\ttotal: 384ms\tremaining: 256ms\n",
      "120:\tlearn: 0.6056548\ttotal: 386ms\tremaining: 252ms\n",
      "121:\tlearn: 0.6054692\ttotal: 390ms\tremaining: 249ms\n",
      "122:\tlearn: 0.6052982\ttotal: 393ms\tremaining: 246ms\n",
      "123:\tlearn: 0.6051760\ttotal: 398ms\tremaining: 244ms\n",
      "124:\tlearn: 0.6050880\ttotal: 401ms\tremaining: 240ms\n",
      "125:\tlearn: 0.6049415\ttotal: 404ms\tremaining: 237ms\n",
      "126:\tlearn: 0.6047263\ttotal: 408ms\tremaining: 235ms\n",
      "127:\tlearn: 0.6045962\ttotal: 411ms\tremaining: 231ms\n",
      "128:\tlearn: 0.6044453\ttotal: 414ms\tremaining: 228ms\n",
      "129:\tlearn: 0.6043076\ttotal: 416ms\tremaining: 224ms\n",
      "130:\tlearn: 0.6042162\ttotal: 420ms\tremaining: 221ms\n",
      "131:\tlearn: 0.6040746\ttotal: 424ms\tremaining: 219ms\n",
      "132:\tlearn: 0.6040568\ttotal: 428ms\tremaining: 215ms\n",
      "133:\tlearn: 0.6039366\ttotal: 431ms\tremaining: 212ms\n",
      "134:\tlearn: 0.6037908\ttotal: 433ms\tremaining: 208ms\n",
      "135:\tlearn: 0.6036147\ttotal: 438ms\tremaining: 206ms\n",
      "136:\tlearn: 0.6034346\ttotal: 442ms\tremaining: 203ms\n",
      "137:\tlearn: 0.6033135\ttotal: 445ms\tremaining: 200ms\n",
      "138:\tlearn: 0.6031180\ttotal: 450ms\tremaining: 197ms\n",
      "139:\tlearn: 0.6029950\ttotal: 452ms\tremaining: 194ms\n",
      "140:\tlearn: 0.6028723\ttotal: 456ms\tremaining: 191ms\n",
      "141:\tlearn: 0.6027540\ttotal: 459ms\tremaining: 187ms\n",
      "142:\tlearn: 0.6025488\ttotal: 461ms\tremaining: 184ms\n",
      "143:\tlearn: 0.6025403\ttotal: 465ms\tremaining: 181ms\n",
      "144:\tlearn: 0.6023948\ttotal: 468ms\tremaining: 177ms\n",
      "145:\tlearn: 0.6022350\ttotal: 472ms\tremaining: 175ms\n",
      "146:\tlearn: 0.6020302\ttotal: 474ms\tremaining: 171ms\n",
      "147:\tlearn: 0.6018683\ttotal: 478ms\tremaining: 168ms\n",
      "148:\tlearn: 0.6017108\ttotal: 480ms\tremaining: 164ms\n",
      "149:\tlearn: 0.6015738\ttotal: 483ms\tremaining: 161ms\n",
      "150:\tlearn: 0.6014341\ttotal: 485ms\tremaining: 157ms\n",
      "151:\tlearn: 0.6013112\ttotal: 489ms\tremaining: 154ms\n",
      "152:\tlearn: 0.6011983\ttotal: 491ms\tremaining: 151ms\n",
      "153:\tlearn: 0.6010069\ttotal: 494ms\tremaining: 148ms\n",
      "154:\tlearn: 0.6008836\ttotal: 497ms\tremaining: 144ms\n",
      "155:\tlearn: 0.6007855\ttotal: 499ms\tremaining: 141ms\n",
      "156:\tlearn: 0.6006801\ttotal: 503ms\tremaining: 138ms\n",
      "157:\tlearn: 0.6006137\ttotal: 507ms\tremaining: 135ms\n",
      "158:\tlearn: 0.6004825\ttotal: 509ms\tremaining: 131ms\n",
      "159:\tlearn: 0.6003794\ttotal: 513ms\tremaining: 128ms\n",
      "160:\tlearn: 0.6003535\ttotal: 515ms\tremaining: 125ms\n",
      "161:\tlearn: 0.6001717\ttotal: 519ms\tremaining: 122ms\n",
      "162:\tlearn: 0.6000833\ttotal: 521ms\tremaining: 118ms\n",
      "163:\tlearn: 0.5999754\ttotal: 524ms\tremaining: 115ms\n",
      "164:\tlearn: 0.5999059\ttotal: 527ms\tremaining: 112ms\n",
      "165:\tlearn: 0.5997879\ttotal: 529ms\tremaining: 108ms\n",
      "166:\tlearn: 0.5996612\ttotal: 532ms\tremaining: 105ms\n",
      "167:\tlearn: 0.5995190\ttotal: 534ms\tremaining: 102ms\n",
      "168:\tlearn: 0.5994019\ttotal: 537ms\tremaining: 98.5ms\n",
      "169:\tlearn: 0.5991997\ttotal: 539ms\tremaining: 95.1ms\n",
      "170:\tlearn: 0.5990313\ttotal: 542ms\tremaining: 91.8ms\n",
      "171:\tlearn: 0.5988673\ttotal: 544ms\tremaining: 88.5ms\n",
      "172:\tlearn: 0.5986581\ttotal: 548ms\tremaining: 85.5ms\n",
      "173:\tlearn: 0.5985028\ttotal: 550ms\tremaining: 82.2ms\n",
      "174:\tlearn: 0.5984248\ttotal: 554ms\tremaining: 79.2ms\n",
      "175:\tlearn: 0.5983166\ttotal: 557ms\tremaining: 75.9ms\n",
      "176:\tlearn: 0.5981866\ttotal: 559ms\tremaining: 72.7ms\n",
      "177:\tlearn: 0.5981250\ttotal: 562ms\tremaining: 69.4ms\n",
      "178:\tlearn: 0.5980257\ttotal: 565ms\tremaining: 66.3ms\n",
      "179:\tlearn: 0.5979388\ttotal: 567ms\tremaining: 63ms\n",
      "180:\tlearn: 0.5977466\ttotal: 570ms\tremaining: 59.8ms\n",
      "181:\tlearn: 0.5976128\ttotal: 572ms\tremaining: 56.6ms\n",
      "182:\tlearn: 0.5974274\ttotal: 574ms\tremaining: 53.3ms\n",
      "183:\tlearn: 0.5972958\ttotal: 580ms\tremaining: 50.4ms\n",
      "184:\tlearn: 0.5971136\ttotal: 583ms\tremaining: 47.3ms\n",
      "185:\tlearn: 0.5969858\ttotal: 585ms\tremaining: 44.1ms\n",
      "186:\tlearn: 0.5968499\ttotal: 588ms\tremaining: 40.9ms\n",
      "187:\tlearn: 0.5966845\ttotal: 591ms\tremaining: 37.8ms\n",
      "188:\tlearn: 0.5966464\ttotal: 596ms\tremaining: 34.7ms\n",
      "189:\tlearn: 0.5965330\ttotal: 598ms\tremaining: 31.5ms\n",
      "190:\tlearn: 0.5964095\ttotal: 601ms\tremaining: 28.3ms\n",
      "191:\tlearn: 0.5962566\ttotal: 603ms\tremaining: 25.1ms\n",
      "192:\tlearn: 0.5961808\ttotal: 607ms\tremaining: 22ms\n",
      "193:\tlearn: 0.5959967\ttotal: 610ms\tremaining: 18.9ms\n",
      "194:\tlearn: 0.5958449\ttotal: 613ms\tremaining: 15.7ms\n",
      "195:\tlearn: 0.5956818\ttotal: 615ms\tremaining: 12.5ms\n",
      "196:\tlearn: 0.5954653\ttotal: 618ms\tremaining: 9.41ms\n",
      "197:\tlearn: 0.5952938\ttotal: 621ms\tremaining: 6.27ms\n",
      "198:\tlearn: 0.5951568\ttotal: 623ms\tremaining: 3.13ms\n",
      "199:\tlearn: 0.5950780\ttotal: 625ms\tremaining: 0us\n",
      "AUC:0.679\n",
      "accuracy:0.620\n",
      "recall:0.671\n",
      "precision:0.464\n",
      "specificity:0.593\n",
      "prevalence:0.344\n",
      " \n"
     ]
    }
   ],
   "source": [
    "catb=CatBoostClassifier(iterations=200, depth=3, learning_rate=1.0, random_state = 111)\n",
    "catb.fit(X_train, y_train)\n",
    "catb_preds = catb.predict_proba(X_valid)[:, 1]\n",
    "\n",
    "lr_valid_auc, lr_valid_accuracy, lr_valid_recall, \\\n",
    "    lr_valid_precision, lr_valid_specificity = print_report(y_valid,catb_preds, 0.5)"
   ]
  },
  {
   "cell_type": "markdown",
   "id": "e6128b0e",
   "metadata": {},
   "source": [
    "# Hyper Parameter Tuning"
   ]
  },
  {
   "cell_type": "markdown",
   "id": "6ccb5ce3",
   "metadata": {},
   "source": [
    "* From the above models we will choose two models for demonstration i.e. Random Forest, Decision Trees for hyper-parameter tuning.\n",
    "* Generally you can pick up the top three models based on the 'AUC', 'Recall' or 'F1 score' score and tune them.\n",
    "\n",
    "There are many techniques for hyper-parameter tuning:\n",
    "\n",
    "* Random Search\n",
    "* Grid Search\n",
    "* Halving Grid Search(added recently in sklearn)\n",
    "\n",
    "Special Note:\n",
    "* It will take significant time to run Hyper Parameter Tuning \n",
    "* Timing will depend on available resources of server"
   ]
  },
  {
   "cell_type": "code",
   "execution_count": 123,
   "id": "367dc1c8",
   "metadata": {},
   "outputs": [],
   "source": [
    "recall_scoring = make_scorer(recall_score)"
   ]
  },
  {
   "cell_type": "markdown",
   "id": "2f75172b",
   "metadata": {},
   "source": [
    "## Decision Tree - Hyper Parameter Tuning"
   ]
  },
  {
   "cell_type": "code",
   "execution_count": 124,
   "id": "c4a7af70",
   "metadata": {},
   "outputs": [
    {
     "name": "stdout",
     "output_type": "stream",
     "text": [
      "Fitting 2 folds for each of 20 candidates, totalling 40 fits\n"
     ]
    },
    {
     "data": {
      "text/plain": [
       "0.5297404172914284"
      ]
     },
     "execution_count": 124,
     "metadata": {},
     "output_type": "execute_result"
    }
   ],
   "source": [
    "dc_grid = {'max_features':['auto','sqrt'], # maximum number of features to use at each split\n",
    "           'max_depth':range(1,11,1), # maximum depth of the tree\n",
    "           'min_samples_split':range(2,10,2), # minimum number of samples to split a node\n",
    "           'criterion':['gini','entropy']} # criterion for evaluating a split\n",
    "\n",
    "dc_random = RandomizedSearchCV(estimator = dc_clf, param_distributions = dc_grid, \n",
    "                               n_iter = 20, cv = 2, scoring=recall_scoring,\n",
    "                               verbose = 1, random_state = 111)\n",
    "\n",
    "dc_random.fit(X_train, y_train)\n",
    "\n",
    "dc_random.best_params_\n",
    "\n",
    "dc_hp_preds = dc_random.best_estimator_.predict(X_valid)\n",
    "dc_hp_preds_proba = dc_random.best_estimator_.predict_proba(X_valid)[:,1]\n",
    "roc_auc_score(y_valid, dc_hp_preds_proba)"
   ]
  },
  {
   "cell_type": "code",
   "execution_count": 125,
   "id": "9af302e1",
   "metadata": {},
   "outputs": [
    {
     "data": {
      "text/plain": [
       "0.7859996195548792"
      ]
     },
     "execution_count": 125,
     "metadata": {},
     "output_type": "execute_result"
    }
   ],
   "source": [
    "recall_score(y_valid, dc_hp_preds)"
   ]
  },
  {
   "cell_type": "markdown",
   "id": "588787d3",
   "metadata": {},
   "source": [
    "## Random Forest - Hyper Parameter Tuning"
   ]
  },
  {
   "cell_type": "code",
   "execution_count": 126,
   "id": "d7f41f64",
   "metadata": {},
   "outputs": [
    {
     "name": "stdout",
     "output_type": "stream",
     "text": [
      "Fitting 2 folds for each of 20 candidates, totalling 40 fits\n"
     ]
    },
    {
     "data": {
      "text/plain": [
       "0.6822031437053135"
      ]
     },
     "execution_count": 126,
     "metadata": {},
     "output_type": "execute_result"
    }
   ],
   "source": [
    "rf_grid = {'n_estimators':range(200,1000,200), # number of trees\n",
    "           'max_features':['auto','sqrt'], # maximum number of features to use at each split\n",
    "           'max_depth':range(1,11,1), # maximum depth of the tree\n",
    "           'min_samples_split':range(2,10,2), # minimum number of samples to split a node\n",
    "           'criterion':['gini','entropy']} # criterion for evaluating a split\n",
    "\n",
    "rf_random = RandomizedSearchCV(estimator = rf_clf, param_distributions = rf_grid, \n",
    "                               n_iter = 20, cv = 2, scoring=recall_scoring,\n",
    "                               verbose = 1, random_state = 111)\n",
    "\n",
    "rf_random.fit(X_train, y_train)\n",
    "\n",
    "rf_random.best_params_\n",
    "\n",
    "rf_hp_preds = rf_random.best_estimator_.predict(X_valid)\n",
    "rf_hp_preds_proba = rf_random.best_estimator_.predict_proba(X_valid)[:,1]\n",
    "roc_auc_score(y_valid, rf_hp_preds_proba)"
   ]
  },
  {
   "cell_type": "code",
   "execution_count": 127,
   "id": "8e9765ce",
   "metadata": {},
   "outputs": [
    {
     "data": {
      "text/plain": [
       "0.6920296747194217"
      ]
     },
     "execution_count": 127,
     "metadata": {},
     "output_type": "execute_result"
    }
   ],
   "source": [
    "recall_score(y_valid, rf_hp_preds)"
   ]
  },
  {
   "cell_type": "markdown",
   "id": "1d26f2a0",
   "metadata": {},
   "source": [
    "## XGBoost - Hyper Parameter Tuning"
   ]
  },
  {
   "cell_type": "code",
   "execution_count": 130,
   "id": "7bd2859b",
   "metadata": {},
   "outputs": [
    {
     "name": "stdout",
     "output_type": "stream",
     "text": [
      "Fitting 2 folds for each of 720 candidates, totalling 1440 fits\n"
     ]
    },
    {
     "data": {
      "text/plain": [
       "0.6845986402812314"
      ]
     },
     "execution_count": 130,
     "metadata": {},
     "output_type": "execute_result"
    }
   ],
   "source": [
    "xgb_grid = params = {\n",
    "        'min_child_weight': [1, 5, 8, 10],\n",
    "        'gamma': [0.5, 1, 1.5, 2, 5],\n",
    "        'subsample': [0.6, 0.8, 1.0],\n",
    "        'colsample_bytree': [0.6, 0.8, 0.9, 1.0],\n",
    "        'max_depth': [3, 4, 5]\n",
    "        } # criterion for evaluating a split\n",
    "\n",
    "xgb_random = GridSearchCV(estimator = xgb_clf, param_grid = xgb_grid, \n",
    "                                cv = 2, scoring = recall_scoring,\n",
    "                                verbose = 1)\n",
    "\n",
    "xgb_random.fit(X_train, y_train)\n",
    "\n",
    "xgb_random.best_params_\n",
    "\n",
    "xgb_hp_preds = xgb_random.best_estimator_.predict(X_valid)\n",
    "xgb_hp_preds_proba = xgb_random.best_estimator_.predict_proba(X_valid)[:,1]\n",
    "roc_auc_score(y_valid, xgb_hp_preds_proba)"
   ]
  },
  {
   "cell_type": "code",
   "execution_count": 131,
   "id": "5f6d46c6",
   "metadata": {},
   "outputs": [
    {
     "data": {
      "text/plain": [
       "0.6724367509986684"
      ]
     },
     "execution_count": 131,
     "metadata": {},
     "output_type": "execute_result"
    }
   ],
   "source": [
    "recall_score(y_valid, xgb_hp_preds)"
   ]
  },
  {
   "cell_type": "code",
   "execution_count": null,
   "id": "20acf821",
   "metadata": {},
   "outputs": [],
   "source": []
  }
 ],
 "metadata": {
  "kernelspec": {
   "display_name": "env",
   "language": "python",
   "name": "python3"
  },
  "language_info": {
   "codemirror_mode": {
    "name": "ipython",
    "version": 3
   },
   "file_extension": ".py",
   "mimetype": "text/x-python",
   "name": "python",
   "nbconvert_exporter": "python",
   "pygments_lexer": "ipython3",
   "version": "3.9.4"
  },
  "vscode": {
   "interpreter": {
    "hash": "43dbda674042127dbd4f9343b1c057265239bc978a327eaddcf7b25ec0d1ff26"
   }
  }
 },
 "nbformat": 4,
 "nbformat_minor": 5
}
