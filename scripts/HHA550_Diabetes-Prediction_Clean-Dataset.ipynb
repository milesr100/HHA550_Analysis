{
 "cells": [
  {
   "attachments": {},
   "cell_type": "markdown",
   "id": "c804435d",
   "metadata": {},
   "source": [
    "# HHA550_Diabetes Prediction Dataset\n",
    "\n",
    "## Healtcare-dataset-stroke-data\n",
    "\n",
    "#### (Check Modules folders for csv and ipynb for each class)"
   ]
  },
  {
   "attachments": {},
   "cell_type": "markdown",
   "id": "cdf8f594",
   "metadata": {},
   "source": [
    "# DATA\n",
    "## Diabetes Prediction Dataset\n"
   ]
  },
  {
   "attachments": {},
   "cell_type": "markdown",
   "id": "7ac477eb",
   "metadata": {},
   "source": [
    "# .CSV Data\n",
    "### cleaned_diabetic_data.csv"
   ]
  },
  {
   "cell_type": "markdown",
   "id": "d3d98fc5",
   "metadata": {},
   "source": [
    "# IMPORTING Everthing"
   ]
  },
  {
   "cell_type": "code",
   "execution_count": 185,
   "id": "a10f0b17",
   "metadata": {},
   "outputs": [],
   "source": [
    "# Commands to install some of the libraries in-case if they are not installed\n",
    "# Any other library that needs to be installed just use: !pip install <library name>\n",
    "# !pip install seaborn\n",
    "# !pip install missingno\n",
    "# !pip install xgboost\n",
    "# !pip install catboost\n",
    "# !pip install regex\n",
    "# !pip install sklearn\n",
    "# !pip install pandas\n",
    "# !pip install numpy\n",
    "# !pip install imblearn\n",
    "# !pip install lightgbm"
   ]
  },
  {
   "cell_type": "code",
   "execution_count": 186,
   "id": "4e845f77",
   "metadata": {},
   "outputs": [],
   "source": [
    "import pandas as pd   # data processing, CSV file I/O (e.g. pd.read_csv)\n",
    "import numpy as np   # linear algebra\n",
    "import matplotlib.pyplot as plt  #graphs and plots\n",
    "import seaborn as sns   #data visualizations \n",
    "import csv # Some extra functionalities for csv  files - reading it as a dictionary\n",
    "from lightgbm import LGBMClassifier #sklearn is for machine learning and statistical modeling including classification, regression, clustering and dimensionality reduction \n",
    "\n",
    "from sklearn.model_selection import train_test_split, cross_validate   #break up dataset into train and test sets\n",
    "\n",
    "from sklearn.linear_model import LogisticRegression\n",
    "from sklearn.ensemble import RandomForestClassifier\n",
    "from sklearn.model_selection import cross_val_score\n",
    "from sklearn.preprocessing import StandardScaler, MinMaxScaler\n",
    "\n",
    "\n",
    "# importing python library for working with missing data\n",
    "import missingno as msno\n",
    "# To install missingno use: !pip install missingno\n",
    "import re    # This library is used to perform regex pattern matching\n",
    "\n",
    "# import various functions from sklearn\n",
    "from sklearn.linear_model import LogisticRegression\n",
    "from sklearn.neighbors import KNeighborsClassifier\n",
    "from sklearn.tree import DecisionTreeClassifier\n",
    "from sklearn.ensemble import RandomForestClassifier\n",
    "from sklearn.svm import LinearSVC\n",
    "from sklearn.ensemble import GradientBoostingClassifier\n",
    "from catboost import CatBoostClassifier\n",
    "import xgboost as xgb\n",
    "from sklearn.metrics import roc_auc_score, accuracy_score, precision_score, recall_score, classification_report, make_scorer\n",
    "from sklearn.linear_model import SGDClassifier\n",
    "from sklearn.model_selection import GridSearchCV, RandomizedSearchCV, train_test_split"
   ]
  },
  {
   "cell_type": "markdown",
   "id": "910c0044",
   "metadata": {},
   "source": [
    "Import additional items as needed...\n",
    "We may not use them all in this course..."
   ]
  },
  {
   "cell_type": "code",
   "execution_count": 187,
   "id": "ee3d031a",
   "metadata": {},
   "outputs": [],
   "source": [
    "from sklearn.model_selection import KFold,cross_val_score, RepeatedStratifiedKFold,StratifiedKFold\n",
    "from sklearn.impute import SimpleImputer\n",
    "from sklearn.pipeline import Pipeline\n",
    "from sklearn.discriminant_analysis import LinearDiscriminantAnalysis\n",
    "from sklearn.preprocessing import OneHotEncoder,StandardScaler,PowerTransformer\n",
    "from sklearn.compose import ColumnTransformer\n",
    "from sklearn.pipeline import Pipeline\n",
    "from sklearn.impute import KNNImputer,SimpleImputer\n",
    "from sklearn.compose import make_column_transformer\n",
    "from imblearn.pipeline import make_pipeline\n",
    "from sklearn.svm import SVC\n",
    "from sklearn.impute import SimpleImputer\n",
    "from sklearn.dummy import DummyClassifier\n",
    "from imblearn.over_sampling import SMOTE\n",
    "from sklearn.neighbors import KNeighborsClassifier\n",
    "from sklearn.metrics import confusion_matrix, accuracy_score, balanced_accuracy_score,\\\n",
    "                            precision_score, recall_score, roc_auc_score,\\\n",
    "                            ConfusionMatrixDisplay, classification_report, RocCurveDisplay, f1_score\n",
    "from sklearn.linear_model import LinearRegression\n",
    "import plotly \n",
    "import plotly.express as px\n",
    "import plotly.graph_objs as go\n",
    "import plotly.offline as py\n",
    "from plotly.offline import iplot\n",
    "from plotly.subplots import make_subplots\n",
    "import plotly.figure_factory as ff\n",
    "\n",
    "import warnings\n",
    "warnings.filterwarnings(\"ignore\")"
   ]
  },
  {
   "cell_type": "markdown",
   "id": "9136179d",
   "metadata": {},
   "source": [
    "* If from imblearn.oversampling import SMOTE does not load use\n",
    "    `conda install -c conda-forge imbalanced-learn`\n",
    "* Then rerun\n",
    "    `from imblearn.over_sampling import SMOTE`"
   ]
  },
  {
   "cell_type": "markdown",
   "id": "eb1b5bfa",
   "metadata": {},
   "source": [
    "# Exploratory Data Analysis (EDA)"
   ]
  },
  {
   "cell_type": "markdown",
   "id": "2fe20041",
   "metadata": {},
   "source": [
    "## Start with Loading the CSV Data"
   ]
  },
  {
   "cell_type": "code",
   "execution_count": 188,
   "id": "def56f62",
   "metadata": {},
   "outputs": [],
   "source": [
    "dm = pd.read_csv('/Users/lozo/Developer/AHI_Github/HHA550_Analysis/data/cleaned_diabetic_data1.csv')\n",
    "dm_analysis = dm[['readmitted', 'age', 'weight', 'diabetesMed']]"
   ]
  },
  {
   "cell_type": "markdown",
   "id": "0d3afce7",
   "metadata": {},
   "source": [
    "# Breaking the data up into Train & Test"
   ]
  },
  {
   "cell_type": "code",
   "execution_count": 189,
   "id": "23150ab7",
   "metadata": {},
   "outputs": [],
   "source": [
    "train_df, valid_df, test_df = np.split(dm_analysis.sample(frac=1, random_state=42), \n",
    "                                        [int(.7*len(dm_analysis)), int(0.85*len(dm_analysis))])\n",
    "train_df = train_df.reset_index(drop = True)\n",
    "valid_df = valid_df.reset_index(drop = True)\n",
    "test_df = test_df.reset_index(drop = True)"
   ]
  },
  {
   "cell_type": "code",
   "execution_count": 190,
   "id": "ae84eff3",
   "metadata": {},
   "outputs": [
    {
     "data": {
      "text/plain": [
       "readmitted\n",
       "0    66221\n",
       "1    35545\n",
       "Name: count, dtype: int64"
      ]
     },
     "execution_count": 190,
     "metadata": {},
     "output_type": "execute_result"
    }
   ],
   "source": [
    "dm_analysis.readmitted.value_counts()"
   ]
  },
  {
   "cell_type": "code",
   "execution_count": 191,
   "id": "689c1912",
   "metadata": {},
   "outputs": [
    {
     "data": {
      "text/plain": [
       "readmitted\n",
       "0    46318\n",
       "1    24918\n",
       "Name: count, dtype: int64"
      ]
     },
     "execution_count": 191,
     "metadata": {},
     "output_type": "execute_result"
    }
   ],
   "source": [
    "train_df.readmitted.value_counts()"
   ]
  },
  {
   "cell_type": "code",
   "execution_count": 192,
   "id": "546fc97f",
   "metadata": {},
   "outputs": [
    {
     "data": {
      "text/plain": [
       "readmitted\n",
       "0    10008\n",
       "1     5257\n",
       "Name: count, dtype: int64"
      ]
     },
     "execution_count": 192,
     "metadata": {},
     "output_type": "execute_result"
    }
   ],
   "source": [
    "valid_df.readmitted.value_counts()"
   ]
  },
  {
   "cell_type": "code",
   "execution_count": 193,
   "id": "6d1b8408",
   "metadata": {},
   "outputs": [
    {
     "data": {
      "text/plain": [
       "readmitted\n",
       "0    9895\n",
       "1    5370\n",
       "Name: count, dtype: int64"
      ]
     },
     "execution_count": 193,
     "metadata": {},
     "output_type": "execute_result"
    }
   ],
   "source": [
    "test_df.readmitted.value_counts()"
   ]
  },
  {
   "cell_type": "markdown",
   "id": "0cad6054",
   "metadata": {},
   "source": [
    "# Treating the Imbalance in the Data"
   ]
  },
  {
   "cell_type": "markdown",
   "id": "b80ce827",
   "metadata": {},
   "source": [
    "Imbalance in the data means that one of the classes in the data is too less as compared to the others. Typically, it is better to balance the data in some way to give the positives more weight. There are 3 strategies that are typically utilized:\n",
    "\n",
    "* Sub-sample the more dominant class: use a random subset of the negatives\n",
    "* Over-sample the imbalanced class: use the same positive samples multiple times\n",
    "* Create synthetic positive data\n",
    "\n",
    "Usually, you will want to use the latter two methods if you only have a handful of positive cases. Since we have a few thousand positive cases, let's use the sub-sample approach. Here, we will create a balanced training data set that has 50% positive and 50% negative. You can also play with this ratio to see if you can get an improvement."
   ]
  },
  {
   "cell_type": "code",
   "execution_count": 194,
   "id": "c7d35fb6",
   "metadata": {},
   "outputs": [],
   "source": [
    "def calc_prevalence(y_actual):\n",
    "    \n",
    "    '''\n",
    "    This function is to understand the ratio/distribution of the classes that we are going to predict for.\n",
    "    \n",
    "    Params:\n",
    "    1. y_actual: The target feature\n",
    "    \n",
    "    Return:\n",
    "    1. (sum(y_actual)/len(y_actual)): The ratio of the postive class in the comlpete data.\n",
    "    '''\n",
    "    \n",
    "    return (sum(y_actual)/len(y_actual))"
   ]
  },
  {
   "cell_type": "code",
   "execution_count": 195,
   "id": "6a9dfc36",
   "metadata": {},
   "outputs": [
    {
     "name": "stdout",
     "output_type": "stream",
     "text": [
      "Train balanced prevalence(n = 49836):0.500\n"
     ]
    }
   ],
   "source": [
    "# split the training data into positive and negative\n",
    "rows_pos = train_df.readmitted == 1\n",
    "df_train_pos = train_df.loc[rows_pos]\n",
    "df_train_neg = train_df.loc[~rows_pos]\n",
    "\n",
    "# merge the balanced data\n",
    "dm_df_balanced = pd.concat([df_train_pos, df_train_neg.sample(n = len(df_train_pos), random_state = 111)],axis = 0)\n",
    "\n",
    "# shuffle the order of training samples \n",
    "dm_df_balanced = dm_df_balanced.sample(n = len(dm_df_balanced), random_state = 42).reset_index(drop = True)\n",
    "\n",
    "print('Train balanced prevalence(n = %d):%.3f'%(len(dm_df_balanced), \\\n",
    "                                                calc_prevalence(dm_df_balanced.readmitted.values)))"
   ]
  },
  {
   "cell_type": "code",
   "execution_count": 196,
   "id": "938bbaef",
   "metadata": {},
   "outputs": [
    {
     "data": {
      "text/plain": [
       "readmitted\n",
       "1    24918\n",
       "0    24918\n",
       "Name: count, dtype: int64"
      ]
     },
     "execution_count": 196,
     "metadata": {},
     "output_type": "execute_result"
    }
   ],
   "source": [
    "dm_df_balanced.readmitted.value_counts()"
   ]
  },
  {
   "cell_type": "code",
   "execution_count": 197,
   "id": "7590ce92",
   "metadata": {},
   "outputs": [],
   "source": [
    "X_train = dm_df_balanced.drop('readmitted',axis=1)\n",
    "\n",
    "y_train = dm_df_balanced['readmitted']\n",
    "\n",
    "X_valid = valid_df.drop('readmitted',axis=1)\n",
    "\n",
    "y_valid = valid_df['readmitted']\n",
    "\n",
    "X_test = test_df.drop('readmitted',axis=1)\n",
    "\n",
    "y_test = test_df['readmitted']"
   ]
  },
  {
   "cell_type": "code",
   "execution_count": 198,
   "id": "37b5c305",
   "metadata": {},
   "outputs": [],
   "source": [
    "scaler=StandardScaler()\n",
    "X_train[['age', 'weight', 'diabetesMed']] = pd.DataFrame(scaler.fit_transform(X_train[['age', 'weight', 'diabetesMed']]),columns=['age', 'weight', 'diabetesMed'])\n",
    "X_valid[['age', 'weight', 'diabetesMed']] = pd.DataFrame(scaler.transform(X_valid[['age', 'weight', 'diabetesMed']]),columns=['age', 'weight', 'diabetesMed'])\n",
    "X_test[['age', 'weight', 'diabetesMed']] = pd.DataFrame(scaler.transform(X_test[['age', 'weight', 'diabetesMed']]),columns=['age', 'weight', 'diabetesMed'])"
   ]
  },
  {
   "cell_type": "markdown",
   "id": "9b1e5723",
   "metadata": {},
   "source": [
    "# Creating and Understanding Models"
   ]
  },
  {
   "cell_type": "code",
   "execution_count": 199,
   "id": "ecf8b577",
   "metadata": {},
   "outputs": [],
   "source": [
    "def calc_specificity(y_actual, y_pred, thresh):\n",
    "    # calculates specificity\n",
    "    return sum((y_pred < thresh) & (y_actual == 0)) /sum(y_actual ==0)\n",
    "\n",
    "def print_report(y_actual, y_pred, thresh = 0.5):\n",
    "    \n",
    "    '''\n",
    "    This function calculates all the metrics to asses the machine learning models.\n",
    "    \n",
    "    Params:\n",
    "    1. y_actual: The actual values for the target variable.\n",
    "    2. y_pred: The predicted values for the target variable.\n",
    "    3. thresh: The threshold for the probability to be considered as a positive class. Default value 0.5\n",
    "    \n",
    "    Return:\n",
    "    1. AUC\n",
    "    2. Accuracy\n",
    "    3. Recall\n",
    "    4. Precision\n",
    "    5. Specificity\n",
    "    '''\n",
    "    \n",
    "    auc = roc_auc_score(y_actual, y_pred)\n",
    "    accuracy = accuracy_score(y_actual, (y_pred > thresh))\n",
    "    recall = recall_score(y_actual, (y_pred > thresh))\n",
    "    precision = precision_score(y_actual, (y_pred > thresh))\n",
    "    specificity = calc_specificity(y_actual, y_pred, thresh)\n",
    "    print('AUC:%.3f'%auc)\n",
    "    print('accuracy:%.3f'%accuracy)\n",
    "    print('recall:%.3f'%recall)\n",
    "    print('precision:%.3f'%precision)\n",
    "    print('specificity:%.3f'%specificity)\n",
    "    print('prevalence:%.3f'%calc_prevalence(y_actual))\n",
    "    print(' ')\n",
    "    return auc, accuracy, recall, precision, specificity"
   ]
  },
  {
   "cell_type": "markdown",
   "id": "3ba8c8ea",
   "metadata": {},
   "source": [
    "## Linear Regression"
   ]
  },
  {
   "cell_type": "code",
   "execution_count": 200,
   "id": "d02dbec4",
   "metadata": {},
   "outputs": [],
   "source": [
    "lnr = LinearRegression()\n",
    "lnr.fit(X_train, y_train)\n",
    "\n",
    "y_valid_preds = lnr.predict(X_valid)"
   ]
  },
  {
   "cell_type": "code",
   "execution_count": 201,
   "id": "ef7f15a8",
   "metadata": {},
   "outputs": [
    {
     "data": {
      "text/plain": [
       "array([0.52593862, 0.45743958, 0.51497146, 0.50503466, 0.52593862,\n",
       "       0.51549342, 0.49448881, 0.51549342, 0.46680392, 0.47671298,\n",
       "       0.52541756, 0.46784433, 0.45692097, 0.51549342, 0.51549342,\n",
       "       0.47723431, 0.52541756, 0.51549342, 0.51601534, 0.45795828,\n",
       "       0.51444948, 0.44449036, 0.52385405, 0.50555704, 0.52437527,\n",
       "       0.52489644, 0.45588404, 0.49613867, 0.50555704, 0.45795828,\n",
       "       0.51497146, 0.50503466, 0.50660176, 0.4761917 , 0.46732409,\n",
       "       0.50607941, 0.46732409, 0.45795828, 0.50660176, 0.46732409,\n",
       "       0.50555704, 0.45743958, 0.50346746, 0.50555704, 0.50607941,\n",
       "       0.50294504, 0.51549342, 0.51497146, 0.46732409, 0.51601534,\n",
       "       0.52489644, 0.55349003, 0.51549342, 0.51392746, 0.50607941,\n",
       "       0.51601534, 0.51444948, 0.51549342, 0.47462818, 0.45743958,\n",
       "       0.50555704, 0.52541756, 0.51653722, 0.51549342, 0.48463501,\n",
       "       0.54467977, 0.43726405, 0.46628382, 0.50555704, 0.46732409,\n",
       "       0.51497146, 0.47775569, 0.50503466, 0.51392746, 0.49457149,\n",
       "       0.50242261, 0.50346746, 0.51549342, 0.51497146, 0.52541756,\n",
       "       0.47723431, 0.51601534, 0.50607941, 0.47723431, 0.50555704,\n",
       "       0.46836465, 0.52541756, 0.50555704, 0.50398987, 0.51497146,\n",
       "       0.51497146, 0.51601534, 0.46576379, 0.51444948, 0.51444948,\n",
       "       0.50398987, 0.52489644, 0.53428185, 0.50346746, 0.51444948,\n",
       "       0.51601534, 0.53532166, 0.46784433, 0.47723431, 0.51549342,\n",
       "       0.45795828, 0.52489644, 0.50451227, 0.51549342, 0.50607941,\n",
       "       0.51601534, 0.50555704, 0.50451227, 0.46784433, 0.50555704,\n",
       "       0.50607941, 0.46680392, 0.51601534, 0.47671298, 0.51601534,\n",
       "       0.47671298, 0.49509388, 0.46576379, 0.50555704, 0.52593862,\n",
       "       0.50398987, 0.46732409, 0.50555704, 0.50607941, 0.44862209,\n",
       "       0.51444948, 0.47671298, 0.46680392, 0.46732409, 0.51497146,\n",
       "       0.45795828, 0.53428185, 0.50398987, 0.51549342, 0.52489644,\n",
       "       0.50503466, 0.46680392, 0.48664041, 0.49613867, 0.50607941,\n",
       "       0.51549342, 0.45640246, 0.45743958, 0.50555704, 0.51601534,\n",
       "       0.50555704, 0.51497146, 0.46732409, 0.45743958, 0.53584146,\n",
       "       0.4465553 , 0.4761917 , 0.51601534, 0.46680392, 0.53532166,\n",
       "       0.51444948, 0.50451227, 0.52437527, 0.51549342, 0.52437527,\n",
       "       0.46680392, 0.48567897, 0.46680392, 0.51549342, 0.48559634,\n",
       "       0.51601534, 0.50660176, 0.54467977, 0.52489644, 0.52489644,\n",
       "       0.52541756, 0.51601534, 0.51444948, 0.52385405, 0.51549342,\n",
       "       0.51549342, 0.47671298, 0.51549342, 0.50607941, 0.51549342,\n",
       "       0.53532166, 0.51549342, 0.51444948, 0.51549342, 0.4761917 ,\n",
       "       0.50660176, 0.4761917 , 0.54312454, 0.45692097, 0.47567047,\n",
       "       0.50660176, 0.52541756, 0.43829275, 0.51444948, 0.51549342,\n",
       "       0.47775569, 0.51601534, 0.45692097, 0.55400643, 0.50607941,\n",
       "       0.49404912, 0.48567897, 0.45588404, 0.53376183, 0.50555704,\n",
       "       0.51444948, 0.52489644, 0.50660176, 0.52541756, 0.53428185,\n",
       "       0.45692097, 0.52489644, 0.52489644, 0.50503466, 0.52593862,\n",
       "       0.45795828, 0.4761917 , 0.50451227, 0.48611836, 0.46680392,\n",
       "       0.4761917 , 0.50242261, 0.50607941, 0.51549342, 0.52541756,\n",
       "       0.49561627, 0.50503466, 0.50660176, 0.47671298, 0.53480179,\n",
       "       0.51601534, 0.50555704, 0.51392746, 0.45692097, 0.52489644,\n",
       "       0.50607941, 0.50503466, 0.52437527, 0.52489644, 0.50503466,\n",
       "       0.46524384, 0.50555704, 0.51549342, 0.51340541, 0.52489644,\n",
       "       0.45743958, 0.52541756, 0.51497146, 0.50451227, 0.47723431,\n",
       "       0.51444948, 0.50555704, 0.51601534, 0.52489644, 0.50503466,\n",
       "       0.51549342, 0.51444948, 0.52385405, 0.46680392, 0.45640246,\n",
       "       0.45847707, 0.51549342, 0.46732409, 0.53324173, 0.52437527,\n",
       "       0.45692097, 0.49666109, 0.48559634, 0.51497146, 0.50555704,\n",
       "       0.51497146, 0.45640246, 0.51392746, 0.52541756, 0.45795828,\n",
       "       0.53376183, 0.51601534, 0.52385405, 0.52437527, 0.52385405,\n",
       "       0.50555704, 0.51601534, 0.46628382, 0.51444948, 0.46732409,\n",
       "       0.50451227, 0.51392746, 0.46732409, 0.49613867, 0.46628382,\n",
       "       0.50555704, 0.50451227, 0.51549342, 0.46628382, 0.45692097,\n",
       "       0.45795828, 0.50607941, 0.51549342, 0.51497146, 0.50660176,\n",
       "       0.52437527, 0.46576379, 0.46576379, 0.53480179, 0.51392746,\n",
       "       0.45484749, 0.46732409, 0.46472396, 0.45795828, 0.43623589,\n",
       "       0.50555704, 0.51549342, 0.52489644, 0.51601534, 0.52489644,\n",
       "       0.52437527, 0.51444948, 0.51444948, 0.52489644, 0.51497146,\n",
       "       0.46680392, 0.53324173, 0.50451227, 0.50346746, 0.52593862,\n",
       "       0.50503466, 0.50555704, 0.50607941, 0.52541756, 0.51549342,\n",
       "       0.53532166, 0.45795828, 0.46784433, 0.51549342, 0.47671298,\n",
       "       0.46836465, 0.51601534, 0.52385405, 0.4761917 , 0.50607941,\n",
       "       0.50451227, 0.50607941, 0.46732409, 0.53428185, 0.45743958,\n",
       "       0.54467977, 0.52541756, 0.52281145, 0.52489644, 0.51601534,\n",
       "       0.51549342, 0.45692097, 0.51601534, 0.49457149, 0.51549342,\n",
       "       0.46680392, 0.50398987, 0.45640246, 0.53376183, 0.51549342,\n",
       "       0.51392746, 0.45640246, 0.46680392, 0.52489644, 0.50607941,\n",
       "       0.52437527, 0.51444948, 0.49666109, 0.50607941, 0.43829275,\n",
       "       0.49613867, 0.50555704, 0.52489644, 0.47723431, 0.51497146,\n",
       "       0.50607941, 0.52437527, 0.51601534, 0.52437527, 0.52437527,\n",
       "       0.51653722, 0.45588404, 0.46576379, 0.50346746, 0.51549342,\n",
       "       0.50607941, 0.50607941, 0.45743958, 0.46732409, 0.54519799,\n",
       "       0.50503466, 0.50503466, 0.53532166, 0.48359119, 0.50607941,\n",
       "       0.52385405, 0.50555704, 0.45692097, 0.50607941, 0.52593862,\n",
       "       0.51601534, 0.50242261, 0.45640246, 0.52541756, 0.46732409,\n",
       "       0.50660176, 0.51601534, 0.46680392, 0.51549342, 0.50398987,\n",
       "       0.51549342, 0.51340541, 0.46628382, 0.51444948, 0.51549342,\n",
       "       0.50294504, 0.46836465, 0.50607941, 0.51601534, 0.46576379,\n",
       "       0.51444948, 0.45743958, 0.52489644, 0.44810523, 0.52541756,\n",
       "       0.46732409, 0.46576379, 0.51497146, 0.46732409, 0.46576379,\n",
       "       0.53480179, 0.44603889, 0.46628382, 0.50555704, 0.50555704,\n",
       "       0.46732409, 0.51392746, 0.51392746, 0.45432936, 0.50555704,\n",
       "       0.51288333, 0.52489644, 0.52489644, 0.45795828, 0.51497146,\n",
       "       0.50503466, 0.51549342, 0.51497146, 0.50346746, 0.50555704,\n",
       "       0.52541756, 0.51444948, 0.51549342, 0.46784433])"
      ]
     },
     "execution_count": 201,
     "metadata": {},
     "output_type": "execute_result"
    }
   ],
   "source": [
    "y_valid_preds"
   ]
  },
  {
   "cell_type": "markdown",
   "id": "457c7731",
   "metadata": {},
   "source": [
    "## Logistic Regression"
   ]
  },
  {
   "cell_type": "code",
   "execution_count": 202,
   "id": "5086c49a",
   "metadata": {},
   "outputs": [
    {
     "name": "stdout",
     "output_type": "stream",
     "text": [
      "Metrics for Validation data:\n",
      "AUC:0.539\n",
      "accuracy:0.474\n",
      "recall:0.693\n",
      "precision:0.362\n",
      "specificity:0.359\n",
      "prevalence:0.344\n",
      " \n"
     ]
    }
   ],
   "source": [
    "lr=LogisticRegression(random_state = 42, solver = 'newton-cg', max_iter = 200)\n",
    "lr.fit(X_train, y_train)\n",
    "\n",
    "y_valid_preds = lr.predict_proba(X_valid)[:,1]\n",
    "\n",
    "print('Metrics for Validation data:')\n",
    "\n",
    "lr_valid_auc, lr_valid_accuracy, lr_valid_recall, \\\n",
    "    lr_valid_precision, lr_valid_specificity = print_report(y_valid,y_valid_preds, 0.5)"
   ]
  },
  {
   "cell_type": "markdown",
   "id": "bdba01c6",
   "metadata": {},
   "source": [
    "## Explaining Results"
   ]
  },
  {
   "cell_type": "code",
   "execution_count": 203,
   "id": "a7f93713",
   "metadata": {},
   "outputs": [],
   "source": [
    "from IPython import display\n",
    "# display.Image(\"C:/Users/kaden/Desktop/HHA550_Stroke_Data/Explaining_Results.png\")"
   ]
  },
  {
   "cell_type": "markdown",
   "id": "4691cdbb",
   "metadata": {},
   "source": [
    "Lets look at some other models to see if we get better results."
   ]
  },
  {
   "cell_type": "markdown",
   "id": "3555e949",
   "metadata": {},
   "source": [
    "## KNN Model"
   ]
  },
  {
   "cell_type": "code",
   "execution_count": 204,
   "id": "cba627ad",
   "metadata": {},
   "outputs": [
    {
     "name": "stdout",
     "output_type": "stream",
     "text": [
      "AUC:0.523\n",
      "accuracy:0.501\n",
      "recall:0.563\n",
      "precision:0.357\n",
      "specificity:0.461\n",
      "prevalence:0.344\n",
      " \n"
     ]
    }
   ],
   "source": [
    "knn = KNeighborsClassifier(n_neighbors = 100)\n",
    "knn.fit(X_train, y_train)\n",
    "\n",
    "knn_preds = knn.predict_proba(X_valid)[:,1]\n",
    "\n",
    "lr_valid_auc, lr_valid_accuracy, lr_valid_recall, \\\n",
    "    lr_valid_precision, lr_valid_specificity = print_report(y_valid,knn_preds, 0.5)"
   ]
  },
  {
   "cell_type": "markdown",
   "id": "f2268172",
   "metadata": {},
   "source": [
    "## Stochastic Gradient Descent Model"
   ]
  },
  {
   "cell_type": "code",
   "execution_count": 205,
   "id": "167f592a",
   "metadata": {},
   "outputs": [
    {
     "name": "stdout",
     "output_type": "stream",
     "text": [
      "Stochastic Gradient Descent\n",
      "Validation:\n",
      "AUC:0.539\n",
      "accuracy:0.474\n",
      "recall:0.693\n",
      "precision:0.362\n",
      "specificity:0.359\n",
      "prevalence:0.344\n",
      " \n"
     ]
    }
   ],
   "source": [
    "sgdc=SGDClassifier(loss = 'log',alpha = 0.1,random_state = 42)\n",
    "sgdc.fit(X_train, y_train)\n",
    "\n",
    "sgd_preds = sgdc.predict_proba(X_valid)[:,1]\n",
    "\n",
    "print('Stochastic Gradient Descent')\n",
    "print('Validation:')\n",
    "sgdc_valid_auc, sgdc_valid_accuracy, sgdc_valid_recall, \\\n",
    "                sgdc_valid_precision, sgdc_valid_specificity = print_report(y_valid,sgd_preds, 0.5)"
   ]
  },
  {
   "cell_type": "markdown",
   "id": "4e841c95",
   "metadata": {},
   "source": [
    "## Decision Tree"
   ]
  },
  {
   "cell_type": "code",
   "execution_count": 206,
   "id": "5c524b7f",
   "metadata": {},
   "outputs": [
    {
     "name": "stdout",
     "output_type": "stream",
     "text": [
      "AUC:0.540\n",
      "accuracy:0.480\n",
      "recall:0.671\n",
      "precision:0.363\n",
      "specificity:0.379\n",
      "prevalence:0.344\n",
      " \n"
     ]
    }
   ],
   "source": [
    "dc_clf = DecisionTreeClassifier(random_state=42, max_depth = 10)\n",
    "dc_clf.fit(X_train, y_train)\n",
    "\n",
    "dc_preds_proba = dc_clf.predict_proba(X_valid)[:,1]\n",
    "dc_preds = dc_clf.predict(X_valid)\n",
    "\n",
    "lr_valid_auc, lr_valid_accuracy, lr_valid_recall, \\\n",
    "    lr_valid_precision, lr_valid_specificity = print_report(y_valid,dc_preds_proba, 0.5)"
   ]
  },
  {
   "cell_type": "markdown",
   "id": "a24a7e5b",
   "metadata": {},
   "source": [
    "## Random Forest"
   ]
  },
  {
   "cell_type": "code",
   "execution_count": 207,
   "id": "009ae20e",
   "metadata": {},
   "outputs": [
    {
     "name": "stdout",
     "output_type": "stream",
     "text": [
      "AUC:0.541\n",
      "accuracy:0.481\n",
      "recall:0.673\n",
      "precision:0.363\n",
      "specificity:0.379\n",
      "prevalence:0.344\n",
      " \n"
     ]
    }
   ],
   "source": [
    "rf_clf = RandomForestClassifier(random_state=111, max_depth = 6)\n",
    "\n",
    "rf_clf.fit(X_train, y_train)\n",
    "\n",
    "rf_preds = rf_clf.predict(X_valid)\n",
    "rf_preds_proba = rf_clf.predict_proba(X_valid)[:, 1]\n",
    "\n",
    "lr_valid_auc, lr_valid_accuracy, lr_valid_recall, \\\n",
    "    lr_valid_precision, lr_valid_specificity = print_report(y_valid,rf_preds_proba, 0.5)"
   ]
  },
  {
   "cell_type": "markdown",
   "id": "984ea500",
   "metadata": {},
   "source": [
    "## Linear SVC"
   ]
  },
  {
   "cell_type": "code",
   "execution_count": 208,
   "id": "893e28ff",
   "metadata": {},
   "outputs": [
    {
     "name": "stdout",
     "output_type": "stream",
     "text": [
      "AUC:0.539\n",
      "accuracy:0.656\n",
      "recall:0.000\n",
      "precision:0.000\n",
      "specificity:1.000\n",
      "prevalence:0.344\n",
      " \n"
     ]
    }
   ],
   "source": [
    "lsvc_clf = LinearSVC(random_state=111)\n",
    "lsvc_clf.fit(X_train, y_train)\n",
    "\n",
    "lsvc_preds = lsvc_clf.decision_function(X_valid)\n",
    "\n",
    "lr_valid_auc, lr_valid_accuracy, lr_valid_recall, \\\n",
    "    lr_valid_precision, lr_valid_specificity = print_report(y_valid,lsvc_preds, 0.5)"
   ]
  },
  {
   "cell_type": "markdown",
   "id": "1d2d1087",
   "metadata": {},
   "source": [
    "## Gradient Boosting Model"
   ]
  },
  {
   "cell_type": "code",
   "execution_count": 209,
   "id": "c6e1e3d5",
   "metadata": {},
   "outputs": [
    {
     "name": "stdout",
     "output_type": "stream",
     "text": [
      "AUC:0.539\n",
      "accuracy:0.481\n",
      "recall:0.672\n",
      "precision:0.363\n",
      "specificity:0.380\n",
      "prevalence:0.344\n",
      " \n"
     ]
    }
   ],
   "source": [
    "gb_clf = GradientBoostingClassifier(n_estimators = 100, criterion='friedman_mse', learning_rate = 1.0, max_depth = 3,\\\n",
    "                                    random_state = 111)\n",
    "\n",
    "gb_clf.fit(X_train, y_train)\n",
    "gb_preds = gb_clf.predict(X_valid)\n",
    "gb_preds_proba = gb_clf.predict_proba(X_valid)[:, 1]\n",
    "\n",
    "lr_valid_auc, lr_valid_accuracy, lr_valid_recall, \\\n",
    "    lr_valid_precision, lr_valid_specificity = print_report(y_valid,gb_preds_proba, 0.5)"
   ]
  },
  {
   "cell_type": "markdown",
   "id": "bdfe0a53",
   "metadata": {},
   "source": [
    "## XGB Model"
   ]
  },
  {
   "cell_type": "code",
   "execution_count": 210,
   "id": "83f18546",
   "metadata": {},
   "outputs": [
    {
     "name": "stdout",
     "output_type": "stream",
     "text": [
      "AUC:0.539\n",
      "accuracy:0.480\n",
      "recall:0.671\n",
      "precision:0.363\n",
      "specificity:0.380\n",
      "prevalence:0.344\n",
      " \n"
     ]
    }
   ],
   "source": [
    "xgb_clf = xgb.XGBClassifier(max_depth=3, learning_rate = 1.0, use_label_encoder = False,\\\n",
    "                            eval_metric = 'logloss')\n",
    "xgb_clf.fit(X_train, y_train)\n",
    "\n",
    "xgb_preds = xgb_clf.predict(X_valid)\n",
    "xgb_preds_proba = xgb_clf.predict_proba(X_valid)[:, 1]\n",
    "\n",
    "lr_valid_auc, lr_valid_accuracy, lr_valid_recall, \\\n",
    "    lr_valid_precision, lr_valid_specificity = print_report(y_valid,xgb_preds_proba, 0.5)"
   ]
  },
  {
   "cell_type": "markdown",
   "id": "70bc6c12",
   "metadata": {},
   "source": [
    "## Catboost Model"
   ]
  },
  {
   "cell_type": "code",
   "execution_count": 211,
   "id": "bbba6d6d",
   "metadata": {
    "scrolled": true
   },
   "outputs": [
    {
     "name": "stdout",
     "output_type": "stream",
     "text": [
      "0:\tlearn: 0.6903860\ttotal: 6.99ms\tremaining: 1.39s\n",
      "1:\tlearn: 0.6901112\ttotal: 13.6ms\tremaining: 1.34s\n",
      "2:\tlearn: 0.6899598\ttotal: 18.3ms\tremaining: 1.2s\n",
      "3:\tlearn: 0.6897998\ttotal: 22.8ms\tremaining: 1.12s\n",
      "4:\tlearn: 0.6897434\ttotal: 27.2ms\tremaining: 1.06s\n",
      "5:\tlearn: 0.6896810\ttotal: 32ms\tremaining: 1.03s\n",
      "6:\tlearn: 0.6896748\ttotal: 36ms\tremaining: 993ms\n",
      "7:\tlearn: 0.6896659\ttotal: 40.8ms\tremaining: 978ms\n",
      "8:\tlearn: 0.6896659\ttotal: 44.4ms\tremaining: 943ms\n",
      "9:\tlearn: 0.6896546\ttotal: 49.7ms\tremaining: 944ms\n",
      "10:\tlearn: 0.6896373\ttotal: 54.7ms\tremaining: 939ms\n",
      "11:\tlearn: 0.6896364\ttotal: 59.2ms\tremaining: 927ms\n",
      "12:\tlearn: 0.6896325\ttotal: 63.3ms\tremaining: 911ms\n",
      "13:\tlearn: 0.6896174\ttotal: 67.1ms\tremaining: 892ms\n",
      "14:\tlearn: 0.6896155\ttotal: 71.1ms\tremaining: 876ms\n",
      "15:\tlearn: 0.6895637\ttotal: 76.1ms\tremaining: 875ms\n",
      "16:\tlearn: 0.6895622\ttotal: 79.7ms\tremaining: 858ms\n",
      "17:\tlearn: 0.6895588\ttotal: 83.8ms\tremaining: 848ms\n",
      "18:\tlearn: 0.6895572\ttotal: 87.5ms\tremaining: 833ms\n",
      "19:\tlearn: 0.6895313\ttotal: 92.9ms\tremaining: 836ms\n",
      "20:\tlearn: 0.6894769\ttotal: 97.5ms\tremaining: 831ms\n",
      "21:\tlearn: 0.6894697\ttotal: 102ms\tremaining: 821ms\n",
      "22:\tlearn: 0.6894527\ttotal: 107ms\tremaining: 820ms\n",
      "23:\tlearn: 0.6894471\ttotal: 112ms\tremaining: 822ms\n",
      "24:\tlearn: 0.6894471\ttotal: 116ms\tremaining: 810ms\n",
      "25:\tlearn: 0.6894434\ttotal: 120ms\tremaining: 803ms\n",
      "26:\tlearn: 0.6894433\ttotal: 124ms\tremaining: 797ms\n",
      "27:\tlearn: 0.6894419\ttotal: 128ms\tremaining: 784ms\n",
      "28:\tlearn: 0.6894283\ttotal: 132ms\tremaining: 778ms\n",
      "29:\tlearn: 0.6894195\ttotal: 137ms\tremaining: 774ms\n",
      "30:\tlearn: 0.6894193\ttotal: 140ms\tremaining: 764ms\n",
      "31:\tlearn: 0.6894147\ttotal: 145ms\tremaining: 763ms\n",
      "32:\tlearn: 0.6894083\ttotal: 150ms\tremaining: 760ms\n",
      "33:\tlearn: 0.6894043\ttotal: 154ms\tremaining: 752ms\n",
      "34:\tlearn: 0.6894045\ttotal: 157ms\tremaining: 741ms\n",
      "35:\tlearn: 0.6893888\ttotal: 161ms\tremaining: 733ms\n",
      "36:\tlearn: 0.6893754\ttotal: 165ms\tremaining: 726ms\n",
      "37:\tlearn: 0.6893739\ttotal: 169ms\tremaining: 718ms\n",
      "38:\tlearn: 0.6893726\ttotal: 173ms\tremaining: 715ms\n",
      "39:\tlearn: 0.6893721\ttotal: 177ms\tremaining: 706ms\n",
      "40:\tlearn: 0.6893725\ttotal: 180ms\tremaining: 699ms\n",
      "41:\tlearn: 0.6893390\ttotal: 185ms\tremaining: 698ms\n",
      "42:\tlearn: 0.6893371\ttotal: 189ms\tremaining: 690ms\n",
      "43:\tlearn: 0.6893379\ttotal: 193ms\tremaining: 683ms\n",
      "44:\tlearn: 0.6893335\ttotal: 196ms\tremaining: 676ms\n",
      "45:\tlearn: 0.6893293\ttotal: 200ms\tremaining: 669ms\n",
      "46:\tlearn: 0.6893296\ttotal: 203ms\tremaining: 662ms\n",
      "47:\tlearn: 0.6893292\ttotal: 207ms\tremaining: 655ms\n",
      "48:\tlearn: 0.6893293\ttotal: 210ms\tremaining: 648ms\n",
      "49:\tlearn: 0.6893292\ttotal: 214ms\tremaining: 642ms\n",
      "50:\tlearn: 0.6893174\ttotal: 217ms\tremaining: 634ms\n",
      "51:\tlearn: 0.6893174\ttotal: 220ms\tremaining: 626ms\n",
      "52:\tlearn: 0.6893174\ttotal: 226ms\tremaining: 628ms\n",
      "53:\tlearn: 0.6893159\ttotal: 231ms\tremaining: 624ms\n",
      "54:\tlearn: 0.6893147\ttotal: 238ms\tremaining: 626ms\n",
      "55:\tlearn: 0.6892957\ttotal: 247ms\tremaining: 635ms\n",
      "56:\tlearn: 0.6892958\ttotal: 252ms\tremaining: 631ms\n",
      "57:\tlearn: 0.6892916\ttotal: 258ms\tremaining: 632ms\n",
      "58:\tlearn: 0.6892915\ttotal: 263ms\tremaining: 627ms\n",
      "59:\tlearn: 0.6892872\ttotal: 267ms\tremaining: 624ms\n",
      "60:\tlearn: 0.6892868\ttotal: 272ms\tremaining: 619ms\n",
      "61:\tlearn: 0.6892866\ttotal: 276ms\tremaining: 614ms\n",
      "62:\tlearn: 0.6892871\ttotal: 280ms\tremaining: 608ms\n",
      "63:\tlearn: 0.6892862\ttotal: 284ms\tremaining: 604ms\n",
      "64:\tlearn: 0.6892839\ttotal: 288ms\tremaining: 599ms\n",
      "65:\tlearn: 0.6892765\ttotal: 295ms\tremaining: 599ms\n",
      "66:\tlearn: 0.6892757\ttotal: 299ms\tremaining: 594ms\n",
      "67:\tlearn: 0.6892745\ttotal: 304ms\tremaining: 591ms\n",
      "68:\tlearn: 0.6892740\ttotal: 309ms\tremaining: 586ms\n",
      "69:\tlearn: 0.6892444\ttotal: 315ms\tremaining: 585ms\n",
      "70:\tlearn: 0.6892422\ttotal: 323ms\tremaining: 587ms\n",
      "71:\tlearn: 0.6892415\ttotal: 328ms\tremaining: 583ms\n",
      "72:\tlearn: 0.6892401\ttotal: 332ms\tremaining: 577ms\n",
      "73:\tlearn: 0.6892397\ttotal: 337ms\tremaining: 573ms\n",
      "74:\tlearn: 0.6892397\ttotal: 341ms\tremaining: 568ms\n",
      "75:\tlearn: 0.6892391\ttotal: 345ms\tremaining: 563ms\n",
      "76:\tlearn: 0.6892237\ttotal: 352ms\tremaining: 563ms\n",
      "77:\tlearn: 0.6892227\ttotal: 356ms\tremaining: 557ms\n",
      "78:\tlearn: 0.6892215\ttotal: 362ms\tremaining: 555ms\n",
      "79:\tlearn: 0.6892208\ttotal: 367ms\tremaining: 550ms\n",
      "80:\tlearn: 0.6892209\ttotal: 371ms\tremaining: 545ms\n",
      "81:\tlearn: 0.6892161\ttotal: 376ms\tremaining: 541ms\n",
      "82:\tlearn: 0.6892169\ttotal: 380ms\tremaining: 536ms\n",
      "83:\tlearn: 0.6892152\ttotal: 386ms\tremaining: 534ms\n",
      "84:\tlearn: 0.6892127\ttotal: 391ms\tremaining: 529ms\n",
      "85:\tlearn: 0.6892127\ttotal: 395ms\tremaining: 523ms\n",
      "86:\tlearn: 0.6892127\ttotal: 399ms\tremaining: 518ms\n",
      "87:\tlearn: 0.6892127\ttotal: 403ms\tremaining: 512ms\n",
      "88:\tlearn: 0.6892127\ttotal: 407ms\tremaining: 507ms\n",
      "89:\tlearn: 0.6892127\ttotal: 411ms\tremaining: 502ms\n",
      "90:\tlearn: 0.6892127\ttotal: 415ms\tremaining: 497ms\n",
      "91:\tlearn: 0.6892127\ttotal: 419ms\tremaining: 492ms\n",
      "92:\tlearn: 0.6892128\ttotal: 423ms\tremaining: 487ms\n",
      "93:\tlearn: 0.6892127\ttotal: 426ms\tremaining: 481ms\n",
      "94:\tlearn: 0.6892127\ttotal: 430ms\tremaining: 476ms\n",
      "95:\tlearn: 0.6892127\ttotal: 433ms\tremaining: 469ms\n",
      "96:\tlearn: 0.6892130\ttotal: 437ms\tremaining: 464ms\n",
      "97:\tlearn: 0.6892131\ttotal: 440ms\tremaining: 458ms\n",
      "98:\tlearn: 0.6892130\ttotal: 444ms\tremaining: 453ms\n",
      "99:\tlearn: 0.6892140\ttotal: 448ms\tremaining: 448ms\n",
      "100:\tlearn: 0.6892131\ttotal: 451ms\tremaining: 442ms\n",
      "101:\tlearn: 0.6892131\ttotal: 455ms\tremaining: 437ms\n",
      "102:\tlearn: 0.6892105\ttotal: 459ms\tremaining: 432ms\n",
      "103:\tlearn: 0.6892089\ttotal: 463ms\tremaining: 427ms\n",
      "104:\tlearn: 0.6892081\ttotal: 466ms\tremaining: 422ms\n",
      "105:\tlearn: 0.6892081\ttotal: 470ms\tremaining: 417ms\n",
      "106:\tlearn: 0.6892087\ttotal: 473ms\tremaining: 411ms\n",
      "107:\tlearn: 0.6892032\ttotal: 477ms\tremaining: 407ms\n",
      "108:\tlearn: 0.6892032\ttotal: 481ms\tremaining: 402ms\n",
      "109:\tlearn: 0.6892029\ttotal: 485ms\tremaining: 397ms\n",
      "110:\tlearn: 0.6892032\ttotal: 490ms\tremaining: 393ms\n",
      "111:\tlearn: 0.6892034\ttotal: 494ms\tremaining: 388ms\n",
      "112:\tlearn: 0.6892025\ttotal: 498ms\tremaining: 383ms\n",
      "113:\tlearn: 0.6892025\ttotal: 502ms\tremaining: 378ms\n",
      "114:\tlearn: 0.6892026\ttotal: 505ms\tremaining: 373ms\n",
      "115:\tlearn: 0.6892020\ttotal: 509ms\tremaining: 369ms\n",
      "116:\tlearn: 0.6892019\ttotal: 513ms\tremaining: 364ms\n",
      "117:\tlearn: 0.6892020\ttotal: 518ms\tremaining: 360ms\n",
      "118:\tlearn: 0.6892028\ttotal: 521ms\tremaining: 355ms\n",
      "119:\tlearn: 0.6892021\ttotal: 525ms\tremaining: 350ms\n",
      "120:\tlearn: 0.6892029\ttotal: 529ms\tremaining: 345ms\n",
      "121:\tlearn: 0.6892028\ttotal: 532ms\tremaining: 340ms\n",
      "122:\tlearn: 0.6892027\ttotal: 536ms\tremaining: 336ms\n",
      "123:\tlearn: 0.6892031\ttotal: 539ms\tremaining: 330ms\n",
      "124:\tlearn: 0.6892024\ttotal: 542ms\tremaining: 325ms\n",
      "125:\tlearn: 0.6892024\ttotal: 546ms\tremaining: 320ms\n",
      "126:\tlearn: 0.6892024\ttotal: 549ms\tremaining: 315ms\n",
      "127:\tlearn: 0.6892026\ttotal: 552ms\tremaining: 311ms\n",
      "128:\tlearn: 0.6892015\ttotal: 557ms\tremaining: 307ms\n",
      "129:\tlearn: 0.6891996\ttotal: 561ms\tremaining: 302ms\n",
      "130:\tlearn: 0.6891994\ttotal: 564ms\tremaining: 297ms\n",
      "131:\tlearn: 0.6891987\ttotal: 568ms\tremaining: 293ms\n",
      "132:\tlearn: 0.6891986\ttotal: 572ms\tremaining: 288ms\n",
      "133:\tlearn: 0.6891995\ttotal: 575ms\tremaining: 283ms\n",
      "134:\tlearn: 0.6891994\ttotal: 579ms\tremaining: 279ms\n",
      "135:\tlearn: 0.6891984\ttotal: 582ms\tremaining: 274ms\n",
      "136:\tlearn: 0.6891981\ttotal: 586ms\tremaining: 270ms\n",
      "137:\tlearn: 0.6891980\ttotal: 590ms\tremaining: 265ms\n",
      "138:\tlearn: 0.6891980\ttotal: 593ms\tremaining: 260ms\n",
      "139:\tlearn: 0.6891986\ttotal: 597ms\tremaining: 256ms\n",
      "140:\tlearn: 0.6891986\ttotal: 600ms\tremaining: 251ms\n",
      "141:\tlearn: 0.6891974\ttotal: 604ms\tremaining: 247ms\n",
      "142:\tlearn: 0.6891974\ttotal: 607ms\tremaining: 242ms\n",
      "143:\tlearn: 0.6891966\ttotal: 610ms\tremaining: 237ms\n",
      "144:\tlearn: 0.6891982\ttotal: 614ms\tremaining: 233ms\n",
      "145:\tlearn: 0.6891983\ttotal: 617ms\tremaining: 228ms\n",
      "146:\tlearn: 0.6891969\ttotal: 621ms\tremaining: 224ms\n",
      "147:\tlearn: 0.6891969\ttotal: 624ms\tremaining: 219ms\n",
      "148:\tlearn: 0.6891975\ttotal: 628ms\tremaining: 215ms\n",
      "149:\tlearn: 0.6891968\ttotal: 631ms\tremaining: 210ms\n",
      "150:\tlearn: 0.6891968\ttotal: 634ms\tremaining: 206ms\n",
      "151:\tlearn: 0.6891968\ttotal: 638ms\tremaining: 201ms\n",
      "152:\tlearn: 0.6891983\ttotal: 641ms\tremaining: 197ms\n",
      "153:\tlearn: 0.6891984\ttotal: 645ms\tremaining: 193ms\n",
      "154:\tlearn: 0.6891980\ttotal: 648ms\tremaining: 188ms\n",
      "155:\tlearn: 0.6891980\ttotal: 651ms\tremaining: 184ms\n",
      "156:\tlearn: 0.6891980\ttotal: 655ms\tremaining: 179ms\n",
      "157:\tlearn: 0.6891966\ttotal: 658ms\tremaining: 175ms\n",
      "158:\tlearn: 0.6891966\ttotal: 662ms\tremaining: 171ms\n",
      "159:\tlearn: 0.6891966\ttotal: 665ms\tremaining: 166ms\n",
      "160:\tlearn: 0.6891966\ttotal: 668ms\tremaining: 162ms\n",
      "161:\tlearn: 0.6891966\ttotal: 672ms\tremaining: 158ms\n",
      "162:\tlearn: 0.6891966\ttotal: 675ms\tremaining: 153ms\n",
      "163:\tlearn: 0.6891966\ttotal: 678ms\tremaining: 149ms\n",
      "164:\tlearn: 0.6891966\ttotal: 681ms\tremaining: 145ms\n",
      "165:\tlearn: 0.6891966\ttotal: 685ms\tremaining: 140ms\n",
      "166:\tlearn: 0.6891966\ttotal: 688ms\tremaining: 136ms\n",
      "167:\tlearn: 0.6891966\ttotal: 693ms\tremaining: 132ms\n",
      "168:\tlearn: 0.6891963\ttotal: 697ms\tremaining: 128ms\n",
      "169:\tlearn: 0.6891963\ttotal: 701ms\tremaining: 124ms\n",
      "170:\tlearn: 0.6891963\ttotal: 704ms\tremaining: 119ms\n",
      "171:\tlearn: 0.6891963\ttotal: 708ms\tremaining: 115ms\n",
      "172:\tlearn: 0.6891963\ttotal: 712ms\tremaining: 111ms\n",
      "173:\tlearn: 0.6891976\ttotal: 716ms\tremaining: 107ms\n",
      "174:\tlearn: 0.6891978\ttotal: 720ms\tremaining: 103ms\n",
      "175:\tlearn: 0.6891973\ttotal: 724ms\tremaining: 98.7ms\n",
      "176:\tlearn: 0.6891959\ttotal: 727ms\tremaining: 94.5ms\n",
      "177:\tlearn: 0.6891948\ttotal: 731ms\tremaining: 90.4ms\n",
      "178:\tlearn: 0.6891955\ttotal: 735ms\tremaining: 86.2ms\n",
      "179:\tlearn: 0.6891946\ttotal: 739ms\tremaining: 82.1ms\n",
      "180:\tlearn: 0.6891945\ttotal: 742ms\tremaining: 77.9ms\n",
      "181:\tlearn: 0.6891945\ttotal: 746ms\tremaining: 73.7ms\n",
      "182:\tlearn: 0.6891946\ttotal: 750ms\tremaining: 69.7ms\n",
      "183:\tlearn: 0.6891924\ttotal: 755ms\tremaining: 65.7ms\n",
      "184:\tlearn: 0.6891913\ttotal: 759ms\tremaining: 61.5ms\n",
      "185:\tlearn: 0.6891914\ttotal: 762ms\tremaining: 57.4ms\n",
      "186:\tlearn: 0.6891929\ttotal: 766ms\tremaining: 53.2ms\n",
      "187:\tlearn: 0.6891679\ttotal: 772ms\tremaining: 49.2ms\n",
      "188:\tlearn: 0.6891688\ttotal: 776ms\tremaining: 45.1ms\n",
      "189:\tlearn: 0.6891683\ttotal: 779ms\tremaining: 41ms\n",
      "190:\tlearn: 0.6891677\ttotal: 783ms\tremaining: 36.9ms\n",
      "191:\tlearn: 0.6891677\ttotal: 787ms\tremaining: 32.8ms\n",
      "192:\tlearn: 0.6891687\ttotal: 790ms\tremaining: 28.7ms\n",
      "193:\tlearn: 0.6891655\ttotal: 796ms\tremaining: 24.6ms\n",
      "194:\tlearn: 0.6891638\ttotal: 800ms\tremaining: 20.5ms\n",
      "195:\tlearn: 0.6891626\ttotal: 804ms\tremaining: 16.4ms\n",
      "196:\tlearn: 0.6891631\ttotal: 808ms\tremaining: 12.3ms\n",
      "197:\tlearn: 0.6891634\ttotal: 812ms\tremaining: 8.2ms\n",
      "198:\tlearn: 0.6891631\ttotal: 816ms\tremaining: 4.1ms\n",
      "199:\tlearn: 0.6891627\ttotal: 820ms\tremaining: 0us\n",
      "AUC:0.539\n",
      "accuracy:0.480\n",
      "recall:0.670\n",
      "precision:0.362\n",
      "specificity:0.380\n",
      "prevalence:0.344\n",
      " \n"
     ]
    }
   ],
   "source": [
    "catb=CatBoostClassifier(iterations=200, depth=3, learning_rate=1.0, random_state = 111)\n",
    "catb.fit(X_train, y_train)\n",
    "catb_preds = catb.predict_proba(X_valid)[:, 1]\n",
    "\n",
    "lr_valid_auc, lr_valid_accuracy, lr_valid_recall, \\\n",
    "    lr_valid_precision, lr_valid_specificity = print_report(y_valid,catb_preds, 0.5)"
   ]
  },
  {
   "cell_type": "markdown",
   "id": "e6128b0e",
   "metadata": {},
   "source": [
    "# Hyper Parameter Tuning"
   ]
  },
  {
   "cell_type": "markdown",
   "id": "6ccb5ce3",
   "metadata": {},
   "source": [
    "* From the above models we will choose two models for demonstration i.e. Random Forest, Decision Trees for hyper-parameter tuning.\n",
    "* Generally you can pick up the top three models based on the 'AUC', 'Recall' or 'F1 score' score and tune them.\n",
    "\n",
    "There are many techniques for hyper-parameter tuning:\n",
    "\n",
    "* Random Search\n",
    "* Grid Search\n",
    "* Halving Grid Search(added recently in sklearn)\n",
    "\n",
    "Special Note:\n",
    "* It will take significant time to run Hyper Parameter Tuning \n",
    "* Timing will depend on available resources of server"
   ]
  },
  {
   "cell_type": "code",
   "execution_count": 212,
   "id": "367dc1c8",
   "metadata": {},
   "outputs": [],
   "source": [
    "recall_scoring = make_scorer(recall_score)"
   ]
  },
  {
   "cell_type": "markdown",
   "id": "2f75172b",
   "metadata": {},
   "source": [
    "## Decision Tree - Hyper Parameter Tuning"
   ]
  },
  {
   "cell_type": "code",
   "execution_count": 213,
   "id": "c4a7af70",
   "metadata": {},
   "outputs": [
    {
     "name": "stdout",
     "output_type": "stream",
     "text": [
      "Fitting 2 folds for each of 20 candidates, totalling 40 fits\n"
     ]
    },
    {
     "data": {
      "text/plain": [
       "0.5289312301347813"
      ]
     },
     "execution_count": 213,
     "metadata": {},
     "output_type": "execute_result"
    }
   ],
   "source": [
    "dc_grid = {'max_features':['auto','sqrt'], # maximum number of features to use at each split\n",
    "           'max_depth':range(1,11,1), # maximum depth of the tree\n",
    "           'min_samples_split':range(2,10,2), # minimum number of samples to split a node\n",
    "           'criterion':['gini','entropy']} # criterion for evaluating a split\n",
    "\n",
    "dc_random = RandomizedSearchCV(estimator = dc_clf, param_distributions = dc_grid, \n",
    "                               n_iter = 20, cv = 2, scoring=recall_scoring,\n",
    "                               verbose = 1, random_state = 111)\n",
    "\n",
    "dc_random.fit(X_train, y_train)\n",
    "\n",
    "dc_random.best_params_\n",
    "\n",
    "dc_hp_preds = dc_random.best_estimator_.predict(X_valid)\n",
    "dc_hp_preds_proba = dc_random.best_estimator_.predict_proba(X_valid)[:,1]\n",
    "roc_auc_score(y_valid, dc_hp_preds_proba)"
   ]
  },
  {
   "cell_type": "code",
   "execution_count": 214,
   "id": "9af302e1",
   "metadata": {},
   "outputs": [
    {
     "data": {
      "text/plain": [
       "0.7863800646756706"
      ]
     },
     "execution_count": 214,
     "metadata": {},
     "output_type": "execute_result"
    }
   ],
   "source": [
    "recall_score(y_valid, dc_hp_preds)"
   ]
  },
  {
   "cell_type": "markdown",
   "id": "588787d3",
   "metadata": {},
   "source": [
    "## Random Forest - Hyper Parameter Tuning"
   ]
  },
  {
   "cell_type": "code",
   "execution_count": 215,
   "id": "d7f41f64",
   "metadata": {},
   "outputs": [
    {
     "name": "stdout",
     "output_type": "stream",
     "text": [
      "Fitting 2 folds for each of 20 candidates, totalling 40 fits\n"
     ]
    },
    {
     "data": {
      "text/plain": [
       "0.5391647496155634"
      ]
     },
     "execution_count": 215,
     "metadata": {},
     "output_type": "execute_result"
    }
   ],
   "source": [
    "rf_grid = {'n_estimators':range(200,1000,200), # number of trees\n",
    "           'max_features':['auto','sqrt'], # maximum number of features to use at each split\n",
    "           'max_depth':range(1,11,1), # maximum depth of the tree\n",
    "           'min_samples_split':range(2,10,2), # minimum number of samples to split a node\n",
    "           'criterion':['gini','entropy']} # criterion for evaluating a split\n",
    "\n",
    "rf_random = RandomizedSearchCV(estimator = rf_clf, param_distributions = rf_grid, \n",
    "                               n_iter = 20, cv = 2, scoring=recall_scoring,\n",
    "                               verbose = 1, random_state = 111)\n",
    "\n",
    "rf_random.fit(X_train, y_train)\n",
    "\n",
    "rf_random.best_params_\n",
    "\n",
    "rf_hp_preds = rf_random.best_estimator_.predict(X_valid)\n",
    "rf_hp_preds_proba = rf_random.best_estimator_.predict_proba(X_valid)[:,1]\n",
    "roc_auc_score(y_valid, rf_hp_preds_proba)"
   ]
  },
  {
   "cell_type": "code",
   "execution_count": 216,
   "id": "8e9765ce",
   "metadata": {},
   "outputs": [
    {
     "data": {
      "text/plain": [
       "0.7859996195548792"
      ]
     },
     "execution_count": 216,
     "metadata": {},
     "output_type": "execute_result"
    }
   ],
   "source": [
    "recall_score(y_valid, rf_hp_preds)"
   ]
  },
  {
   "cell_type": "markdown",
   "id": "1d26f2a0",
   "metadata": {},
   "source": [
    "## XGBoost - Hyper Parameter Tuning"
   ]
  },
  {
   "cell_type": "code",
   "execution_count": 217,
   "id": "7bd2859b",
   "metadata": {},
   "outputs": [],
   "source": [
    "# xgb_grid = params = {\n",
    "#         'min_child_weight': [1, 5, 8, 10],\n",
    "#         'gamma': [0.5, 1, 1.5, 2, 5],\n",
    "#         'subsample': [0.6, 0.8, 1.0],\n",
    "#         'colsample_bytree': [0.6, 0.8, 0.9, 1.0],\n",
    "#         'max_depth': [3, 4, 5]\n",
    "#         } # criterion for evaluating a split\n",
    "\n",
    "# xgb_random = GridSearchCV(estimator = xgb_clf, param_grid = xgb_grid, \n",
    "#                                cv = 2, scoring = recall_scoring,\n",
    "#                                verbose = 1)\n",
    "\n",
    "# xgb_random.fit(X_train, y_train)\n",
    "\n",
    "# xgb_random.best_params_\n",
    "\n",
    "# xgb_hp_preds = xgb_random.best_estimator_.predict(X_valid)\n",
    "# xgb_hp_preds_proba = xgb_random.best_estimator_.predict_proba(X_valid)[:,1]\n",
    "# roc_auc_score(y_valid, xgb_hp_preds_proba)"
   ]
  },
  {
   "cell_type": "code",
   "execution_count": 218,
   "id": "5f6d46c6",
   "metadata": {},
   "outputs": [],
   "source": [
    "# recall_score(y_valid, xgb_hp_preds)"
   ]
  }
 ],
 "metadata": {
  "kernelspec": {
   "display_name": "Python 3",
   "language": "python",
   "name": "python3"
  },
  "language_info": {
   "codemirror_mode": {
    "name": "ipython",
    "version": 3
   },
   "file_extension": ".py",
   "mimetype": "text/x-python",
   "name": "python",
   "nbconvert_exporter": "python",
   "pygments_lexer": "ipython3",
   "version": "3.9.4"
  }
 },
 "nbformat": 4,
 "nbformat_minor": 5
}
