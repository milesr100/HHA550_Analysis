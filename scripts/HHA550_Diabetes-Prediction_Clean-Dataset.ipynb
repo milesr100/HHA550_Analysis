{
 "cells": [
  {
   "attachments": {},
   "cell_type": "markdown",
   "id": "c804435d",
   "metadata": {},
   "source": [
    "# HHA550_Diabetes Prediction Dataset\n",
    "\n",
    "## Healtcare-dataset-stroke-data\n",
    "\n",
    "#### (Check Modules folders for csv and ipynb for each class)"
   ]
  },
  {
   "attachments": {},
   "cell_type": "markdown",
   "id": "cdf8f594",
   "metadata": {},
   "source": [
    "# DATA\n",
    "## Diabetes Prediction Dataset\n"
   ]
  },
  {
   "attachments": {},
   "cell_type": "markdown",
   "id": "7ac477eb",
   "metadata": {},
   "source": [
    "# .CSV Data\n",
    "### cleaned_diabetic_data.csv"
   ]
  },
  {
   "cell_type": "markdown",
   "id": "d3d98fc5",
   "metadata": {},
   "source": [
    "# IMPORTING Everthing"
   ]
  },
  {
   "cell_type": "code",
   "execution_count": 98,
   "id": "a10f0b17",
   "metadata": {},
   "outputs": [],
   "source": [
    "# Commands to install some of the libraries in-case if they are not installed\n",
    "# Any other library that needs to be installed just use: !pip install <library name>\n",
    "# !pip install seaborn\n",
    "# !pip install missingno\n",
    "# !pip install xgboost\n",
    "# !pip install catboost\n",
    "# !pip install regex\n",
    "# !pip install sklearn\n",
    "# !pip install pandas\n",
    "# !pip install numpy\n",
    "# !pip install imblearn\n",
    "# !pip install lightgbm"
   ]
  },
  {
   "cell_type": "code",
   "execution_count": 99,
   "id": "4e845f77",
   "metadata": {},
   "outputs": [],
   "source": [
    "import pandas as pd   # data processing, CSV file I/O (e.g. pd.read_csv)\n",
    "import numpy as np   # linear algebra\n",
    "import matplotlib.pyplot as plt  #graphs and plots\n",
    "import seaborn as sns   #data visualizations \n",
    "import csv # Some extra functionalities for csv  files - reading it as a dictionary\n",
    "from lightgbm import LGBMClassifier #sklearn is for machine learning and statistical modeling including classification, regression, clustering and dimensionality reduction \n",
    "\n",
    "from sklearn.model_selection import train_test_split, cross_validate   #break up dataset into train and test sets\n",
    "\n",
    "from sklearn.linear_model import LogisticRegression\n",
    "from sklearn.ensemble import RandomForestClassifier\n",
    "from sklearn.model_selection import cross_val_score\n",
    "from sklearn.preprocessing import StandardScaler, MinMaxScaler\n",
    "\n",
    "\n",
    "# importing python library for working with missing data\n",
    "import missingno as msno\n",
    "# To install missingno use: !pip install missingno\n",
    "import re    # This library is used to perform regex pattern matching\n",
    "\n",
    "# import various functions from sklearn\n",
    "from sklearn.linear_model import LogisticRegression\n",
    "from sklearn.neighbors import KNeighborsClassifier\n",
    "from sklearn.tree import DecisionTreeClassifier\n",
    "from sklearn.ensemble import RandomForestClassifier\n",
    "from sklearn.svm import LinearSVC\n",
    "from sklearn.ensemble import GradientBoostingClassifier\n",
    "from catboost import CatBoostClassifier\n",
    "import xgboost as xgb\n",
    "from sklearn.metrics import roc_auc_score, accuracy_score, precision_score, recall_score, classification_report, make_scorer\n",
    "from sklearn.linear_model import SGDClassifier\n",
    "from sklearn.model_selection import GridSearchCV, RandomizedSearchCV, train_test_split"
   ]
  },
  {
   "cell_type": "markdown",
   "id": "910c0044",
   "metadata": {},
   "source": [
    "Import additional items as needed...\n",
    "We may not use them all in this course..."
   ]
  },
  {
   "cell_type": "code",
   "execution_count": 100,
   "id": "ee3d031a",
   "metadata": {},
   "outputs": [],
   "source": [
    "from sklearn.model_selection import KFold,cross_val_score, RepeatedStratifiedKFold,StratifiedKFold\n",
    "from sklearn.impute import SimpleImputer\n",
    "from sklearn.pipeline import Pipeline\n",
    "from sklearn.discriminant_analysis import LinearDiscriminantAnalysis\n",
    "from sklearn.preprocessing import OneHotEncoder,StandardScaler,PowerTransformer\n",
    "from sklearn.compose import ColumnTransformer\n",
    "from sklearn.pipeline import Pipeline\n",
    "from sklearn.impute import KNNImputer,SimpleImputer\n",
    "from sklearn.compose import make_column_transformer\n",
    "from imblearn.pipeline import make_pipeline\n",
    "from sklearn.svm import SVC\n",
    "from sklearn.impute import SimpleImputer\n",
    "from sklearn.dummy import DummyClassifier\n",
    "from imblearn.over_sampling import SMOTE\n",
    "from sklearn.neighbors import KNeighborsClassifier\n",
    "from sklearn.metrics import confusion_matrix, accuracy_score, balanced_accuracy_score,\\\n",
    "                            precision_score, recall_score, roc_auc_score,\\\n",
    "                            ConfusionMatrixDisplay, classification_report, RocCurveDisplay, f1_score\n",
    "from sklearn.linear_model import LinearRegression\n",
    "import plotly \n",
    "import plotly.express as px\n",
    "import plotly.graph_objs as go\n",
    "import plotly.offline as py\n",
    "from plotly.offline import iplot\n",
    "from plotly.subplots import make_subplots\n",
    "import plotly.figure_factory as ff\n",
    "\n",
    "import warnings\n",
    "warnings.filterwarnings(\"ignore\")"
   ]
  },
  {
   "cell_type": "markdown",
   "id": "9136179d",
   "metadata": {},
   "source": [
    "* If from imblearn.oversampling import SMOTE does not load use\n",
    "    `conda install -c conda-forge imbalanced-learn`\n",
    "* Then rerun\n",
    "    `from imblearn.over_sampling import SMOTE`"
   ]
  },
  {
   "cell_type": "markdown",
   "id": "eb1b5bfa",
   "metadata": {},
   "source": [
    "# Exploratory Data Analysis (EDA)"
   ]
  },
  {
   "cell_type": "markdown",
   "id": "2fe20041",
   "metadata": {},
   "source": [
    "## Start with Loading the CSV Data"
   ]
  },
  {
   "cell_type": "code",
   "execution_count": 101,
   "id": "def56f62",
   "metadata": {},
   "outputs": [],
   "source": [
    "dm = pd.read_csv('/Users/lozo/Developer/AHI_Github/HHA550_Analysis/data/cleaned_diabetic_data1.csv')\n",
    "values_used = dm[['readmitted', 'age', 'weight', 'diabetesMed']]"
   ]
  },
  {
   "cell_type": "markdown",
   "id": "0d3afce7",
   "metadata": {},
   "source": [
    "# Breaking the data up into Train & Test"
   ]
  },
  {
   "cell_type": "code",
   "execution_count": 102,
   "id": "23150ab7",
   "metadata": {},
   "outputs": [],
   "source": [
    "train_df, valid_df, test_df = np.split(dm.sample(frac=1, random_state=42), \n",
    "                                        [int(.7*len(dm)), int(0.85*len(dm))])\n",
    "train_df = train_df.reset_index(drop = True)\n",
    "valid_df = valid_df.reset_index(drop = True)\n",
    "test_df = test_df.reset_index(drop = True)"
   ]
  },
  {
   "cell_type": "code",
   "execution_count": 103,
   "id": "ae84eff3",
   "metadata": {},
   "outputs": [
    {
     "data": {
      "text/plain": [
       "readmitted\n",
       "0    66221\n",
       "1    35545\n",
       "Name: count, dtype: int64"
      ]
     },
     "execution_count": 103,
     "metadata": {},
     "output_type": "execute_result"
    }
   ],
   "source": [
    "dm.readmitted.value_counts()"
   ]
  },
  {
   "cell_type": "code",
   "execution_count": 104,
   "id": "689c1912",
   "metadata": {},
   "outputs": [
    {
     "data": {
      "text/plain": [
       "readmitted\n",
       "0    46318\n",
       "1    24918\n",
       "Name: count, dtype: int64"
      ]
     },
     "execution_count": 104,
     "metadata": {},
     "output_type": "execute_result"
    }
   ],
   "source": [
    "train_df.readmitted.value_counts()"
   ]
  },
  {
   "cell_type": "code",
   "execution_count": 105,
   "id": "546fc97f",
   "metadata": {},
   "outputs": [
    {
     "data": {
      "text/plain": [
       "readmitted\n",
       "0    10008\n",
       "1     5257\n",
       "Name: count, dtype: int64"
      ]
     },
     "execution_count": 105,
     "metadata": {},
     "output_type": "execute_result"
    }
   ],
   "source": [
    "valid_df.readmitted.value_counts()"
   ]
  },
  {
   "cell_type": "code",
   "execution_count": 106,
   "id": "6d1b8408",
   "metadata": {},
   "outputs": [
    {
     "data": {
      "text/plain": [
       "readmitted\n",
       "0    9895\n",
       "1    5370\n",
       "Name: count, dtype: int64"
      ]
     },
     "execution_count": 106,
     "metadata": {},
     "output_type": "execute_result"
    }
   ],
   "source": [
    "test_df.readmitted.value_counts()"
   ]
  },
  {
   "cell_type": "markdown",
   "id": "0cad6054",
   "metadata": {},
   "source": [
    "# Treating the Imbalance in the Data"
   ]
  },
  {
   "cell_type": "markdown",
   "id": "b80ce827",
   "metadata": {},
   "source": [
    "Imbalance in the data means that one of the classes in the data is too less as compared to the others. Typically, it is better to balance the data in some way to give the positives more weight. There are 3 strategies that are typically utilized:\n",
    "\n",
    "* Sub-sample the more dominant class: use a random subset of the negatives\n",
    "* Over-sample the imbalanced class: use the same positive samples multiple times\n",
    "* Create synthetic positive data\n",
    "\n",
    "Usually, you will want to use the latter two methods if you only have a handful of positive cases. Since we have a few thousand positive cases, let's use the sub-sample approach. Here, we will create a balanced training data set that has 50% positive and 50% negative. You can also play with this ratio to see if you can get an improvement."
   ]
  },
  {
   "cell_type": "code",
   "execution_count": 107,
   "id": "c7d35fb6",
   "metadata": {},
   "outputs": [],
   "source": [
    "def calc_prevalence(y_actual):\n",
    "    \n",
    "    '''\n",
    "    This function is to understand the ratio/distribution of the classes that we are going to predict for.\n",
    "    \n",
    "    Params:\n",
    "    1. y_actual: The target feature\n",
    "    \n",
    "    Return:\n",
    "    1. (sum(y_actual)/len(y_actual)): The ratio of the postive class in the comlpete data.\n",
    "    '''\n",
    "    \n",
    "    return (sum(y_actual)/len(y_actual))"
   ]
  },
  {
   "cell_type": "code",
   "execution_count": 108,
   "id": "6a9dfc36",
   "metadata": {},
   "outputs": [
    {
     "name": "stdout",
     "output_type": "stream",
     "text": [
      "Train balanced prevalence(n = 49836):0.500\n"
     ]
    }
   ],
   "source": [
    "# split the training data into positive and negative\n",
    "rows_pos = train_df.readmitted == 1\n",
    "df_train_pos = train_df.loc[rows_pos]\n",
    "df_train_neg = train_df.loc[~rows_pos]\n",
    "\n",
    "# merge the balanced data\n",
    "dm_df_balanced = pd.concat([df_train_pos, df_train_neg.sample(n = len(df_train_pos), random_state = 111)],axis = 0)\n",
    "\n",
    "# shuffle the order of training samples \n",
    "dm_df_balanced = dm_df_balanced.sample(n = len(dm_df_balanced), random_state = 42).reset_index(drop = True)\n",
    "\n",
    "print('Train balanced prevalence(n = %d):%.3f'%(len(dm_df_balanced), \\\n",
    "                                                calc_prevalence(dm_df_balanced.readmitted.values)))"
   ]
  },
  {
   "cell_type": "code",
   "execution_count": 109,
   "id": "938bbaef",
   "metadata": {},
   "outputs": [
    {
     "data": {
      "text/plain": [
       "readmitted\n",
       "1    24918\n",
       "0    24918\n",
       "Name: count, dtype: int64"
      ]
     },
     "execution_count": 109,
     "metadata": {},
     "output_type": "execute_result"
    }
   ],
   "source": [
    "dm_df_balanced.readmitted.value_counts()"
   ]
  },
  {
   "cell_type": "code",
   "execution_count": 110,
   "id": "7590ce92",
   "metadata": {},
   "outputs": [],
   "source": [
    "X_train = dm_df_balanced.drop('readmitted',axis=1)\n",
    "\n",
    "y_train = dm_df_balanced['readmitted']\n",
    "\n",
    "X_valid = valid_df.drop('readmitted',axis=1)\n",
    "\n",
    "y_valid = valid_df['readmitted']\n",
    "\n",
    "X_test = test_df.drop('readmitted',axis=1)\n",
    "\n",
    "y_test = test_df['readmitted']"
   ]
  },
  {
   "cell_type": "code",
   "execution_count": 111,
   "id": "37b5c305",
   "metadata": {},
   "outputs": [],
   "source": [
    "scaler=StandardScaler()\n",
    "X_train[['age', 'weight', 'diabetesMed']] = pd.DataFrame(scaler.fit_transform(X_train[['age', 'weight', 'diabetesMed']]),columns=['age', 'weight', 'diabetesMed'])\n",
    "X_valid[['age', 'weight', 'diabetesMed']] = pd.DataFrame(scaler.transform(X_valid[['age', 'weight', 'diabetesMed']]),columns=['age', 'weight', 'diabetesMed'])\n",
    "X_test[['age', 'weight', 'diabetesMed']] = pd.DataFrame(scaler.transform(X_test[['age', 'weight', 'diabetesMed']]),columns=['age', 'weight', 'diabetesMed'])"
   ]
  },
  {
   "cell_type": "markdown",
   "id": "9b1e5723",
   "metadata": {},
   "source": [
    "# Creating and Understanding Models"
   ]
  },
  {
   "cell_type": "code",
   "execution_count": 112,
   "id": "ecf8b577",
   "metadata": {},
   "outputs": [],
   "source": [
    "def calc_specificity(y_actual, y_pred, thresh):\n",
    "    # calculates specificity\n",
    "    return sum((y_pred < thresh) & (y_actual == 0)) /sum(y_actual ==0)\n",
    "\n",
    "def print_report(y_actual, y_pred, thresh = 0.5):\n",
    "    \n",
    "    '''\n",
    "    This function calculates all the metrics to asses the machine learning models.\n",
    "    \n",
    "    Params:\n",
    "    1. y_actual: The actual values for the target variable.\n",
    "    2. y_pred: The predicted values for the target variable.\n",
    "    3. thresh: The threshold for the probability to be considered as a positive class. Default value 0.5\n",
    "    \n",
    "    Return:\n",
    "    1. AUC\n",
    "    2. Accuracy\n",
    "    3. Recall\n",
    "    4. Precision\n",
    "    5. Specificity\n",
    "    '''\n",
    "    \n",
    "    auc = roc_auc_score(y_actual, y_pred)\n",
    "    accuracy = accuracy_score(y_actual, (y_pred > thresh))\n",
    "    recall = recall_score(y_actual, (y_pred > thresh))\n",
    "    precision = precision_score(y_actual, (y_pred > thresh))\n",
    "    specificity = calc_specificity(y_actual, y_pred, thresh)\n",
    "    print('AUC:%.3f'%auc)\n",
    "    print('accuracy:%.3f'%accuracy)\n",
    "    print('recall:%.3f'%recall)\n",
    "    print('precision:%.3f'%precision)\n",
    "    print('specificity:%.3f'%specificity)\n",
    "    print('prevalence:%.3f'%calc_prevalence(y_actual))\n",
    "    print(' ')\n",
    "    return auc, accuracy, recall, precision, specificity"
   ]
  },
  {
   "cell_type": "markdown",
   "id": "3ba8c8ea",
   "metadata": {},
   "source": [
    "## Linear Regression"
   ]
  },
  {
   "cell_type": "code",
   "execution_count": 113,
   "id": "d02dbec4",
   "metadata": {},
   "outputs": [],
   "source": [
    "lnr = LinearRegression()\n",
    "lnr.fit(X_train, y_train)\n",
    "\n",
    "y_valid_preds = lnr.predict(X_valid)"
   ]
  },
  {
   "cell_type": "code",
   "execution_count": 114,
   "id": "ef7f15a8",
   "metadata": {},
   "outputs": [
    {
     "data": {
      "text/plain": [
       "array([0.61838194, 0.56696315, 0.61497011, ..., 0.43422883, 0.57862396,\n",
       "       0.53315222])"
      ]
     },
     "execution_count": 114,
     "metadata": {},
     "output_type": "execute_result"
    }
   ],
   "source": [
    "y_valid_preds"
   ]
  },
  {
   "cell_type": "code",
   "execution_count": 136,
   "id": "fb1254ab",
   "metadata": {},
   "outputs": [
    {
     "data": {
      "text/html": [
       "<div>\n",
       "<style scoped>\n",
       "    .dataframe tbody tr th:only-of-type {\n",
       "        vertical-align: middle;\n",
       "    }\n",
       "\n",
       "    .dataframe tbody tr th {\n",
       "        vertical-align: top;\n",
       "    }\n",
       "\n",
       "    .dataframe thead th {\n",
       "        text-align: right;\n",
       "    }\n",
       "</style>\n",
       "<table border=\"1\" class=\"dataframe\">\n",
       "  <thead>\n",
       "    <tr style=\"text-align: right;\">\n",
       "      <th></th>\n",
       "      <th>Actual</th>\n",
       "      <th>Predicted</th>\n",
       "    </tr>\n",
       "  </thead>\n",
       "  <tbody>\n",
       "    <tr>\n",
       "      <th>4882</th>\n",
       "      <td>1</td>\n",
       "      <td>0.488888</td>\n",
       "    </tr>\n",
       "    <tr>\n",
       "      <th>11341</th>\n",
       "      <td>0</td>\n",
       "      <td>0.609530</td>\n",
       "    </tr>\n",
       "    <tr>\n",
       "      <th>345</th>\n",
       "      <td>0</td>\n",
       "      <td>0.600939</td>\n",
       "    </tr>\n",
       "    <tr>\n",
       "      <th>11348</th>\n",
       "      <td>0</td>\n",
       "      <td>0.468590</td>\n",
       "    </tr>\n",
       "    <tr>\n",
       "      <th>8938</th>\n",
       "      <td>0</td>\n",
       "      <td>0.447127</td>\n",
       "    </tr>\n",
       "    <tr>\n",
       "      <th>1769</th>\n",
       "      <td>1</td>\n",
       "      <td>0.526465</td>\n",
       "    </tr>\n",
       "    <tr>\n",
       "      <th>4686</th>\n",
       "      <td>0</td>\n",
       "      <td>0.337603</td>\n",
       "    </tr>\n",
       "    <tr>\n",
       "      <th>12433</th>\n",
       "      <td>0</td>\n",
       "      <td>0.513803</td>\n",
       "    </tr>\n",
       "    <tr>\n",
       "      <th>12415</th>\n",
       "      <td>0</td>\n",
       "      <td>0.528793</td>\n",
       "    </tr>\n",
       "    <tr>\n",
       "      <th>12001</th>\n",
       "      <td>0</td>\n",
       "      <td>0.470068</td>\n",
       "    </tr>\n",
       "  </tbody>\n",
       "</table>\n",
       "</div>"
      ],
      "text/plain": [
       "       Actual  Predicted\n",
       "4882        1   0.488888\n",
       "11341       0   0.609530\n",
       "345         0   0.600939\n",
       "11348       0   0.468590\n",
       "8938        0   0.447127\n",
       "1769        1   0.526465\n",
       "4686        0   0.337603\n",
       "12433       0   0.513803\n",
       "12415       0   0.528793\n",
       "12001       0   0.470068"
      ]
     },
     "execution_count": 136,
     "metadata": {},
     "output_type": "execute_result"
    }
   ],
   "source": [
    "df_test = pd.DataFrame({'Actual': y_test, 'Predicted': y_valid_preds})\n",
    "df_test.sample(10)"
   ]
  },
  {
   "cell_type": "code",
   "execution_count": 115,
   "id": "0b640389",
   "metadata": {},
   "outputs": [
    {
     "name": "stdout",
     "output_type": "stream",
     "text": [
      "Mean absolute error: 0.50\n",
      "Mean squared error: 0.26\n",
      "Root mean squared error: 0.51\n"
     ]
    }
   ],
   "source": [
    "from sklearn.metrics import mean_absolute_error, mean_squared_error\n",
    "mae = mean_absolute_error(y_test, y_valid_preds)\n",
    "mse = mean_squared_error(y_test, y_valid_preds)\n",
    "rmse = np.sqrt(mse)\n",
    "\n",
    "print(f'Mean absolute error: {mae:.2f}')\n",
    "print(f'Mean squared error: {mse:.2f}')\n",
    "print(f'Root mean squared error: {rmse:.2f}')"
   ]
  },
  {
   "cell_type": "code",
   "execution_count": 116,
   "id": "c1d550d3",
   "metadata": {},
   "outputs": [
    {
     "name": "stdout",
     "output_type": "stream",
     "text": [
      "R²: -0.9681613176713797\n"
     ]
    }
   ],
   "source": [
    "actual_minus_predicted = sum((y_test - y_valid)**2)\n",
    "actual_minus_actual_mean = sum((y_test - y_test.mean())**2)\n",
    "r2 = 1 - actual_minus_predicted/actual_minus_actual_mean\n",
    "print('R²:', r2)"
   ]
  },
  {
   "cell_type": "markdown",
   "id": "457c7731",
   "metadata": {},
   "source": [
    "## Logistic Regression"
   ]
  },
  {
   "cell_type": "code",
   "execution_count": 117,
   "id": "5086c49a",
   "metadata": {},
   "outputs": [
    {
     "name": "stdout",
     "output_type": "stream",
     "text": [
      "Metrics for Validation data:\n",
      "AUC:0.623\n",
      "accuracy:0.582\n",
      "recall:0.636\n",
      "precision:0.428\n",
      "specificity:0.553\n",
      "prevalence:0.344\n",
      " \n"
     ]
    }
   ],
   "source": [
    "lr=LogisticRegression(random_state = 42, solver = 'newton-cg', max_iter = 200)\n",
    "lr.fit(X_train, y_train)\n",
    "\n",
    "y_valid_preds = lr.predict_proba(X_valid)[:,1]\n",
    "\n",
    "print('Metrics for Validation data:')\n",
    "\n",
    "lr_valid_auc, lr_valid_accuracy, lr_valid_recall, \\\n",
    "    lr_valid_precision, lr_valid_specificity = print_report(y_valid,y_valid_preds, 0.5)"
   ]
  },
  {
   "cell_type": "markdown",
   "id": "bdba01c6",
   "metadata": {},
   "source": [
    "## Explaining Results"
   ]
  },
  {
   "cell_type": "code",
   "execution_count": 118,
   "id": "a7f93713",
   "metadata": {},
   "outputs": [],
   "source": [
    "from IPython import display\n",
    "# display.Image(\"C:/Users/kaden/Desktop/HHA550_Stroke_Data/Explaining_Results.png\")"
   ]
  },
  {
   "cell_type": "markdown",
   "id": "4691cdbb",
   "metadata": {},
   "source": [
    "Lets look at some other models to see if we get better results."
   ]
  },
  {
   "cell_type": "markdown",
   "id": "3555e949",
   "metadata": {},
   "source": [
    "## KNN Model"
   ]
  },
  {
   "cell_type": "code",
   "execution_count": 119,
   "id": "cba627ad",
   "metadata": {},
   "outputs": [
    {
     "name": "stdout",
     "output_type": "stream",
     "text": [
      "AUC:0.621\n",
      "accuracy:0.570\n",
      "recall:0.631\n",
      "precision:0.418\n",
      "specificity:0.513\n",
      "prevalence:0.344\n",
      " \n"
     ]
    }
   ],
   "source": [
    "knn = KNeighborsClassifier(n_neighbors = 100)\n",
    "knn.fit(X_train, y_train)\n",
    "\n",
    "knn_preds = knn.predict_proba(X_valid)[:,1]\n",
    "\n",
    "lr_valid_auc, lr_valid_accuracy, lr_valid_recall, \\\n",
    "    lr_valid_precision, lr_valid_specificity = print_report(y_valid,knn_preds, 0.5)"
   ]
  },
  {
   "cell_type": "markdown",
   "id": "f2268172",
   "metadata": {},
   "source": [
    "## Stochastic Gradient Descent Model"
   ]
  },
  {
   "cell_type": "code",
   "execution_count": 120,
   "id": "167f592a",
   "metadata": {},
   "outputs": [
    {
     "name": "stdout",
     "output_type": "stream",
     "text": [
      "Stochastic Gradient Descent\n",
      "Validation:\n",
      "AUC:0.509\n",
      "accuracy:0.650\n",
      "recall:0.055\n",
      "precision:0.434\n",
      "specificity:0.962\n",
      "prevalence:0.344\n",
      " \n"
     ]
    }
   ],
   "source": [
    "sgdc=SGDClassifier(loss = 'log',alpha = 0.1,random_state = 42)\n",
    "sgdc.fit(X_train, y_train)\n",
    "\n",
    "sgd_preds = sgdc.predict_proba(X_valid)[:,1]\n",
    "\n",
    "print('Stochastic Gradient Descent')\n",
    "print('Validation:')\n",
    "sgdc_valid_auc, sgdc_valid_accuracy, sgdc_valid_recall, \\\n",
    "                sgdc_valid_precision, sgdc_valid_specificity = print_report(y_valid,sgd_preds, 0.5)"
   ]
  },
  {
   "cell_type": "markdown",
   "id": "4e841c95",
   "metadata": {},
   "source": [
    "## Decision Tree"
   ]
  },
  {
   "cell_type": "code",
   "execution_count": 121,
   "id": "5c524b7f",
   "metadata": {},
   "outputs": [
    {
     "name": "stdout",
     "output_type": "stream",
     "text": [
      "AUC:0.655\n",
      "accuracy:0.610\n",
      "recall:0.652\n",
      "precision:0.454\n",
      "specificity:0.580\n",
      "prevalence:0.344\n",
      " \n"
     ]
    }
   ],
   "source": [
    "dc_clf = DecisionTreeClassifier(random_state=42, max_depth = 10)\n",
    "dc_clf.fit(X_train, y_train)\n",
    "\n",
    "dc_preds_proba = dc_clf.predict_proba(X_valid)[:,1]\n",
    "dc_preds = dc_clf.predict(X_valid)\n",
    "\n",
    "lr_valid_auc, lr_valid_accuracy, lr_valid_recall, \\\n",
    "    lr_valid_precision, lr_valid_specificity = print_report(y_valid,dc_preds_proba, 0.5)"
   ]
  },
  {
   "cell_type": "markdown",
   "id": "a24a7e5b",
   "metadata": {},
   "source": [
    "## Random Forest"
   ]
  },
  {
   "cell_type": "code",
   "execution_count": 122,
   "id": "009ae20e",
   "metadata": {},
   "outputs": [
    {
     "name": "stdout",
     "output_type": "stream",
     "text": [
      "AUC:0.668\n",
      "accuracy:0.603\n",
      "recall:0.678\n",
      "precision:0.449\n",
      "specificity:0.563\n",
      "prevalence:0.344\n",
      " \n"
     ]
    }
   ],
   "source": [
    "rf_clf = RandomForestClassifier(random_state=111, max_depth = 6)\n",
    "\n",
    "rf_clf.fit(X_train, y_train)\n",
    "\n",
    "rf_preds = rf_clf.predict(X_valid)\n",
    "rf_preds_proba = rf_clf.predict_proba(X_valid)[:, 1]\n",
    "\n",
    "lr_valid_auc, lr_valid_accuracy, lr_valid_recall, \\\n",
    "    lr_valid_precision, lr_valid_specificity = print_report(y_valid,rf_preds_proba, 0.5)"
   ]
  },
  {
   "cell_type": "markdown",
   "id": "984ea500",
   "metadata": {},
   "source": [
    "## Linear SVC"
   ]
  },
  {
   "cell_type": "code",
   "execution_count": 123,
   "id": "893e28ff",
   "metadata": {},
   "outputs": [
    {
     "name": "stdout",
     "output_type": "stream",
     "text": [
      "AUC:0.510\n",
      "accuracy:0.361\n",
      "recall:0.934\n",
      "precision:0.343\n",
      "specificity:0.060\n",
      "prevalence:0.344\n",
      " \n"
     ]
    }
   ],
   "source": [
    "lsvc_clf = LinearSVC(random_state=111)\n",
    "lsvc_clf.fit(X_train, y_train)\n",
    "\n",
    "lsvc_preds = lsvc_clf.decision_function(X_valid)\n",
    "\n",
    "lr_valid_auc, lr_valid_accuracy, lr_valid_recall, \\\n",
    "    lr_valid_precision, lr_valid_specificity = print_report(y_valid,lsvc_preds, 0.5)"
   ]
  },
  {
   "cell_type": "markdown",
   "id": "1d2d1087",
   "metadata": {},
   "source": [
    "## Gradient Boosting Model"
   ]
  },
  {
   "cell_type": "code",
   "execution_count": 124,
   "id": "c6e1e3d5",
   "metadata": {},
   "outputs": [
    {
     "name": "stdout",
     "output_type": "stream",
     "text": [
      "AUC:0.674\n",
      "accuracy:0.619\n",
      "recall:0.668\n",
      "precision:0.463\n",
      "specificity:0.593\n",
      "prevalence:0.344\n",
      " \n"
     ]
    }
   ],
   "source": [
    "gb_clf = GradientBoostingClassifier(n_estimators = 100, criterion='friedman_mse', learning_rate = 1.0, max_depth = 3,\\\n",
    "                                    random_state = 111)\n",
    "\n",
    "gb_clf.fit(X_train, y_train)\n",
    "gb_preds = gb_clf.predict(X_valid)\n",
    "gb_preds_proba = gb_clf.predict_proba(X_valid)[:, 1]\n",
    "\n",
    "lr_valid_auc, lr_valid_accuracy, lr_valid_recall, \\\n",
    "    lr_valid_precision, lr_valid_specificity = print_report(y_valid,gb_preds_proba, 0.5)"
   ]
  },
  {
   "cell_type": "markdown",
   "id": "bdfe0a53",
   "metadata": {},
   "source": [
    "## XGB Model"
   ]
  },
  {
   "cell_type": "code",
   "execution_count": 125,
   "id": "83f18546",
   "metadata": {},
   "outputs": [
    {
     "name": "stdout",
     "output_type": "stream",
     "text": [
      "AUC:0.679\n",
      "accuracy:0.618\n",
      "recall:0.662\n",
      "precision:0.462\n",
      "specificity:0.595\n",
      "prevalence:0.344\n",
      " \n"
     ]
    }
   ],
   "source": [
    "xgb_clf = xgb.XGBClassifier(max_depth=3, learning_rate = 1.0, use_label_encoder = False,\\\n",
    "                            eval_metric = 'logloss')\n",
    "xgb_clf.fit(X_train, y_train)\n",
    "\n",
    "xgb_preds = xgb_clf.predict(X_valid)\n",
    "xgb_preds_proba = xgb_clf.predict_proba(X_valid)[:, 1]\n",
    "\n",
    "lr_valid_auc, lr_valid_accuracy, lr_valid_recall, \\\n",
    "    lr_valid_precision, lr_valid_specificity = print_report(y_valid,xgb_preds_proba, 0.5)"
   ]
  },
  {
   "cell_type": "markdown",
   "id": "70bc6c12",
   "metadata": {},
   "source": [
    "## Catboost Model"
   ]
  },
  {
   "cell_type": "code",
   "execution_count": 126,
   "id": "bbba6d6d",
   "metadata": {
    "scrolled": true
   },
   "outputs": [
    {
     "name": "stdout",
     "output_type": "stream",
     "text": [
      "0:\tlearn: 0.6693811\ttotal: 4.51ms\tremaining: 898ms\n",
      "1:\tlearn: 0.6550993\ttotal: 8.64ms\tremaining: 856ms\n",
      "2:\tlearn: 0.6491666\ttotal: 12.6ms\tremaining: 824ms\n",
      "3:\tlearn: 0.6462364\ttotal: 18.1ms\tremaining: 885ms\n",
      "4:\tlearn: 0.6444088\ttotal: 22.5ms\tremaining: 879ms\n",
      "5:\tlearn: 0.6430795\ttotal: 26.6ms\tremaining: 859ms\n",
      "6:\tlearn: 0.6422050\ttotal: 30.9ms\tremaining: 853ms\n",
      "7:\tlearn: 0.6413312\ttotal: 35.3ms\tremaining: 848ms\n",
      "8:\tlearn: 0.6400747\ttotal: 39.6ms\tremaining: 840ms\n",
      "9:\tlearn: 0.6389629\ttotal: 44.5ms\tremaining: 846ms\n",
      "10:\tlearn: 0.6383719\ttotal: 49.8ms\tremaining: 856ms\n",
      "11:\tlearn: 0.6368917\ttotal: 54.3ms\tremaining: 851ms\n",
      "12:\tlearn: 0.6361774\ttotal: 58.4ms\tremaining: 840ms\n",
      "13:\tlearn: 0.6353291\ttotal: 63.1ms\tremaining: 838ms\n",
      "14:\tlearn: 0.6346583\ttotal: 67.9ms\tremaining: 838ms\n",
      "15:\tlearn: 0.6341009\ttotal: 73.6ms\tremaining: 846ms\n",
      "16:\tlearn: 0.6336945\ttotal: 78.6ms\tremaining: 846ms\n",
      "17:\tlearn: 0.6330433\ttotal: 82.8ms\tremaining: 838ms\n",
      "18:\tlearn: 0.6324135\ttotal: 88ms\tremaining: 838ms\n",
      "19:\tlearn: 0.6320745\ttotal: 92.5ms\tremaining: 833ms\n",
      "20:\tlearn: 0.6317348\ttotal: 97.2ms\tremaining: 829ms\n",
      "21:\tlearn: 0.6314076\ttotal: 103ms\tremaining: 830ms\n",
      "22:\tlearn: 0.6304739\ttotal: 107ms\tremaining: 821ms\n",
      "23:\tlearn: 0.6293283\ttotal: 112ms\tremaining: 818ms\n",
      "24:\tlearn: 0.6288796\ttotal: 115ms\tremaining: 807ms\n",
      "25:\tlearn: 0.6283919\ttotal: 120ms\tremaining: 802ms\n",
      "26:\tlearn: 0.6279389\ttotal: 124ms\tremaining: 797ms\n",
      "27:\tlearn: 0.6276151\ttotal: 130ms\tremaining: 798ms\n",
      "28:\tlearn: 0.6269485\ttotal: 135ms\tremaining: 794ms\n",
      "29:\tlearn: 0.6263651\ttotal: 139ms\tremaining: 787ms\n",
      "30:\tlearn: 0.6257062\ttotal: 144ms\tremaining: 784ms\n",
      "31:\tlearn: 0.6254943\ttotal: 148ms\tremaining: 778ms\n",
      "32:\tlearn: 0.6253051\ttotal: 153ms\tremaining: 776ms\n",
      "33:\tlearn: 0.6251192\ttotal: 158ms\tremaining: 772ms\n",
      "34:\tlearn: 0.6249202\ttotal: 164ms\tremaining: 773ms\n",
      "35:\tlearn: 0.6247740\ttotal: 169ms\tremaining: 771ms\n",
      "36:\tlearn: 0.6245950\ttotal: 173ms\tremaining: 763ms\n",
      "37:\tlearn: 0.6241555\ttotal: 178ms\tremaining: 760ms\n",
      "38:\tlearn: 0.6237991\ttotal: 184ms\tremaining: 758ms\n",
      "39:\tlearn: 0.6236626\ttotal: 188ms\tremaining: 751ms\n",
      "40:\tlearn: 0.6233407\ttotal: 192ms\tremaining: 744ms\n",
      "41:\tlearn: 0.6231131\ttotal: 197ms\tremaining: 739ms\n",
      "42:\tlearn: 0.6228129\ttotal: 201ms\tremaining: 735ms\n",
      "43:\tlearn: 0.6226662\ttotal: 205ms\tremaining: 727ms\n",
      "44:\tlearn: 0.6225311\ttotal: 210ms\tremaining: 722ms\n",
      "45:\tlearn: 0.6222758\ttotal: 214ms\tremaining: 715ms\n",
      "46:\tlearn: 0.6219834\ttotal: 218ms\tremaining: 709ms\n",
      "47:\tlearn: 0.6218205\ttotal: 222ms\tremaining: 704ms\n",
      "48:\tlearn: 0.6206885\ttotal: 227ms\tremaining: 698ms\n",
      "49:\tlearn: 0.6203938\ttotal: 231ms\tremaining: 694ms\n",
      "50:\tlearn: 0.6200158\ttotal: 237ms\tremaining: 693ms\n",
      "51:\tlearn: 0.6198322\ttotal: 242ms\tremaining: 689ms\n",
      "52:\tlearn: 0.6195169\ttotal: 246ms\tremaining: 683ms\n",
      "53:\tlearn: 0.6188975\ttotal: 251ms\tremaining: 678ms\n",
      "54:\tlearn: 0.6186191\ttotal: 255ms\tremaining: 672ms\n",
      "55:\tlearn: 0.6182144\ttotal: 259ms\tremaining: 667ms\n",
      "56:\tlearn: 0.6180468\ttotal: 265ms\tremaining: 664ms\n",
      "57:\tlearn: 0.6178715\ttotal: 270ms\tremaining: 661ms\n",
      "58:\tlearn: 0.6176626\ttotal: 275ms\tremaining: 656ms\n",
      "59:\tlearn: 0.6173666\ttotal: 280ms\tremaining: 653ms\n",
      "60:\tlearn: 0.6172033\ttotal: 285ms\tremaining: 650ms\n",
      "61:\tlearn: 0.6169730\ttotal: 289ms\tremaining: 644ms\n",
      "62:\tlearn: 0.6167348\ttotal: 294ms\tremaining: 638ms\n",
      "63:\tlearn: 0.6165247\ttotal: 299ms\tremaining: 635ms\n",
      "64:\tlearn: 0.6162509\ttotal: 303ms\tremaining: 630ms\n",
      "65:\tlearn: 0.6160727\ttotal: 309ms\tremaining: 627ms\n",
      "66:\tlearn: 0.6158022\ttotal: 314ms\tremaining: 622ms\n",
      "67:\tlearn: 0.6154412\ttotal: 318ms\tremaining: 618ms\n",
      "68:\tlearn: 0.6152235\ttotal: 323ms\tremaining: 614ms\n",
      "69:\tlearn: 0.6150947\ttotal: 328ms\tremaining: 610ms\n",
      "70:\tlearn: 0.6149009\ttotal: 333ms\tremaining: 605ms\n",
      "71:\tlearn: 0.6148008\ttotal: 339ms\tremaining: 602ms\n",
      "72:\tlearn: 0.6146086\ttotal: 344ms\tremaining: 598ms\n",
      "73:\tlearn: 0.6143889\ttotal: 349ms\tremaining: 594ms\n",
      "74:\tlearn: 0.6141280\ttotal: 353ms\tremaining: 589ms\n",
      "75:\tlearn: 0.6140022\ttotal: 358ms\tremaining: 584ms\n",
      "76:\tlearn: 0.6138235\ttotal: 362ms\tremaining: 578ms\n",
      "77:\tlearn: 0.6136479\ttotal: 367ms\tremaining: 575ms\n",
      "78:\tlearn: 0.6135227\ttotal: 372ms\tremaining: 570ms\n",
      "79:\tlearn: 0.6132291\ttotal: 377ms\tremaining: 566ms\n",
      "80:\tlearn: 0.6131998\ttotal: 382ms\tremaining: 561ms\n",
      "81:\tlearn: 0.6129049\ttotal: 387ms\tremaining: 556ms\n",
      "82:\tlearn: 0.6128242\ttotal: 392ms\tremaining: 553ms\n",
      "83:\tlearn: 0.6126460\ttotal: 398ms\tremaining: 549ms\n",
      "84:\tlearn: 0.6125299\ttotal: 402ms\tremaining: 544ms\n",
      "85:\tlearn: 0.6123671\ttotal: 408ms\tremaining: 540ms\n",
      "86:\tlearn: 0.6122557\ttotal: 413ms\tremaining: 536ms\n",
      "87:\tlearn: 0.6120179\ttotal: 417ms\tremaining: 531ms\n",
      "88:\tlearn: 0.6118400\ttotal: 422ms\tremaining: 527ms\n",
      "89:\tlearn: 0.6116618\ttotal: 427ms\tremaining: 522ms\n",
      "90:\tlearn: 0.6114670\ttotal: 432ms\tremaining: 517ms\n",
      "91:\tlearn: 0.6112378\ttotal: 436ms\tremaining: 512ms\n",
      "92:\tlearn: 0.6110102\ttotal: 441ms\tremaining: 508ms\n",
      "93:\tlearn: 0.6108122\ttotal: 446ms\tremaining: 503ms\n",
      "94:\tlearn: 0.6105065\ttotal: 450ms\tremaining: 497ms\n",
      "95:\tlearn: 0.6103194\ttotal: 455ms\tremaining: 493ms\n",
      "96:\tlearn: 0.6101372\ttotal: 458ms\tremaining: 486ms\n",
      "97:\tlearn: 0.6099782\ttotal: 462ms\tremaining: 481ms\n",
      "98:\tlearn: 0.6098689\ttotal: 466ms\tremaining: 476ms\n",
      "99:\tlearn: 0.6096712\ttotal: 471ms\tremaining: 471ms\n",
      "100:\tlearn: 0.6095437\ttotal: 475ms\tremaining: 466ms\n",
      "101:\tlearn: 0.6094147\ttotal: 480ms\tremaining: 461ms\n",
      "102:\tlearn: 0.6092977\ttotal: 484ms\tremaining: 456ms\n",
      "103:\tlearn: 0.6091375\ttotal: 488ms\tremaining: 451ms\n",
      "104:\tlearn: 0.6089206\ttotal: 492ms\tremaining: 445ms\n",
      "105:\tlearn: 0.6088012\ttotal: 496ms\tremaining: 440ms\n",
      "106:\tlearn: 0.6085957\ttotal: 500ms\tremaining: 435ms\n",
      "107:\tlearn: 0.6083651\ttotal: 505ms\tremaining: 430ms\n",
      "108:\tlearn: 0.6080800\ttotal: 510ms\tremaining: 425ms\n",
      "109:\tlearn: 0.6078942\ttotal: 515ms\tremaining: 421ms\n",
      "110:\tlearn: 0.6077022\ttotal: 520ms\tremaining: 417ms\n",
      "111:\tlearn: 0.6075925\ttotal: 524ms\tremaining: 412ms\n",
      "112:\tlearn: 0.6074649\ttotal: 529ms\tremaining: 407ms\n",
      "113:\tlearn: 0.6073590\ttotal: 534ms\tremaining: 403ms\n",
      "114:\tlearn: 0.6072233\ttotal: 539ms\tremaining: 398ms\n",
      "115:\tlearn: 0.6070264\ttotal: 544ms\tremaining: 394ms\n",
      "116:\tlearn: 0.6068656\ttotal: 549ms\tremaining: 389ms\n",
      "117:\tlearn: 0.6066914\ttotal: 554ms\tremaining: 385ms\n",
      "118:\tlearn: 0.6065859\ttotal: 558ms\tremaining: 380ms\n",
      "119:\tlearn: 0.6064332\ttotal: 564ms\tremaining: 376ms\n",
      "120:\tlearn: 0.6062984\ttotal: 569ms\tremaining: 372ms\n",
      "121:\tlearn: 0.6061555\ttotal: 573ms\tremaining: 366ms\n",
      "122:\tlearn: 0.6060119\ttotal: 578ms\tremaining: 362ms\n",
      "123:\tlearn: 0.6057930\ttotal: 582ms\tremaining: 357ms\n",
      "124:\tlearn: 0.6056927\ttotal: 587ms\tremaining: 352ms\n",
      "125:\tlearn: 0.6055246\ttotal: 591ms\tremaining: 347ms\n",
      "126:\tlearn: 0.6053889\ttotal: 596ms\tremaining: 343ms\n",
      "127:\tlearn: 0.6052812\ttotal: 601ms\tremaining: 338ms\n",
      "128:\tlearn: 0.6051519\ttotal: 604ms\tremaining: 333ms\n",
      "129:\tlearn: 0.6050185\ttotal: 609ms\tremaining: 328ms\n",
      "130:\tlearn: 0.6048742\ttotal: 613ms\tremaining: 323ms\n",
      "131:\tlearn: 0.6047258\ttotal: 617ms\tremaining: 318ms\n",
      "132:\tlearn: 0.6045866\ttotal: 622ms\tremaining: 313ms\n",
      "133:\tlearn: 0.6044301\ttotal: 626ms\tremaining: 308ms\n",
      "134:\tlearn: 0.6044058\ttotal: 630ms\tremaining: 304ms\n",
      "135:\tlearn: 0.6042191\ttotal: 635ms\tremaining: 299ms\n",
      "136:\tlearn: 0.6040990\ttotal: 639ms\tremaining: 294ms\n",
      "137:\tlearn: 0.6039926\ttotal: 643ms\tremaining: 289ms\n",
      "138:\tlearn: 0.6038360\ttotal: 648ms\tremaining: 284ms\n",
      "139:\tlearn: 0.6036922\ttotal: 652ms\tremaining: 279ms\n",
      "140:\tlearn: 0.6035656\ttotal: 656ms\tremaining: 274ms\n",
      "141:\tlearn: 0.6034290\ttotal: 661ms\tremaining: 270ms\n",
      "142:\tlearn: 0.6032480\ttotal: 664ms\tremaining: 265ms\n",
      "143:\tlearn: 0.6031507\ttotal: 668ms\tremaining: 260ms\n",
      "144:\tlearn: 0.6030988\ttotal: 672ms\tremaining: 255ms\n",
      "145:\tlearn: 0.6028378\ttotal: 676ms\tremaining: 250ms\n",
      "146:\tlearn: 0.6027169\ttotal: 681ms\tremaining: 245ms\n",
      "147:\tlearn: 0.6025781\ttotal: 684ms\tremaining: 240ms\n",
      "148:\tlearn: 0.6023760\ttotal: 688ms\tremaining: 235ms\n",
      "149:\tlearn: 0.6022712\ttotal: 693ms\tremaining: 231ms\n",
      "150:\tlearn: 0.6021239\ttotal: 697ms\tremaining: 226ms\n",
      "151:\tlearn: 0.6018988\ttotal: 701ms\tremaining: 221ms\n",
      "152:\tlearn: 0.6017169\ttotal: 705ms\tremaining: 217ms\n",
      "153:\tlearn: 0.6015890\ttotal: 710ms\tremaining: 212ms\n",
      "154:\tlearn: 0.6014747\ttotal: 713ms\tremaining: 207ms\n",
      "155:\tlearn: 0.6013205\ttotal: 718ms\tremaining: 202ms\n",
      "156:\tlearn: 0.6011403\ttotal: 722ms\tremaining: 198ms\n",
      "157:\tlearn: 0.6009231\ttotal: 727ms\tremaining: 193ms\n",
      "158:\tlearn: 0.6008450\ttotal: 731ms\tremaining: 189ms\n",
      "159:\tlearn: 0.6006606\ttotal: 736ms\tremaining: 184ms\n",
      "160:\tlearn: 0.6006446\ttotal: 740ms\tremaining: 179ms\n",
      "161:\tlearn: 0.6005231\ttotal: 744ms\tremaining: 175ms\n",
      "162:\tlearn: 0.6003732\ttotal: 749ms\tremaining: 170ms\n",
      "163:\tlearn: 0.6002221\ttotal: 752ms\tremaining: 165ms\n",
      "164:\tlearn: 0.6001129\ttotal: 757ms\tremaining: 161ms\n",
      "165:\tlearn: 0.5999987\ttotal: 761ms\tremaining: 156ms\n",
      "166:\tlearn: 0.5998916\ttotal: 766ms\tremaining: 151ms\n",
      "167:\tlearn: 0.5998285\ttotal: 770ms\tremaining: 147ms\n",
      "168:\tlearn: 0.5996868\ttotal: 774ms\tremaining: 142ms\n",
      "169:\tlearn: 0.5995614\ttotal: 778ms\tremaining: 137ms\n",
      "170:\tlearn: 0.5994593\ttotal: 782ms\tremaining: 133ms\n",
      "171:\tlearn: 0.5994577\ttotal: 786ms\tremaining: 128ms\n",
      "172:\tlearn: 0.5993508\ttotal: 790ms\tremaining: 123ms\n",
      "173:\tlearn: 0.5992577\ttotal: 795ms\tremaining: 119ms\n",
      "174:\tlearn: 0.5991007\ttotal: 799ms\tremaining: 114ms\n",
      "175:\tlearn: 0.5989399\ttotal: 803ms\tremaining: 110ms\n",
      "176:\tlearn: 0.5987735\ttotal: 807ms\tremaining: 105ms\n",
      "177:\tlearn: 0.5986531\ttotal: 812ms\tremaining: 100ms\n",
      "178:\tlearn: 0.5985575\ttotal: 816ms\tremaining: 95.7ms\n",
      "179:\tlearn: 0.5984216\ttotal: 820ms\tremaining: 91.1ms\n",
      "180:\tlearn: 0.5982644\ttotal: 824ms\tremaining: 86.5ms\n",
      "181:\tlearn: 0.5980929\ttotal: 828ms\tremaining: 81.9ms\n",
      "182:\tlearn: 0.5979058\ttotal: 832ms\tremaining: 77.2ms\n",
      "183:\tlearn: 0.5978072\ttotal: 836ms\tremaining: 72.7ms\n",
      "184:\tlearn: 0.5976726\ttotal: 840ms\tremaining: 68.1ms\n",
      "185:\tlearn: 0.5975678\ttotal: 845ms\tremaining: 63.6ms\n",
      "186:\tlearn: 0.5974477\ttotal: 849ms\tremaining: 59ms\n",
      "187:\tlearn: 0.5973247\ttotal: 853ms\tremaining: 54.4ms\n",
      "188:\tlearn: 0.5971917\ttotal: 857ms\tremaining: 49.9ms\n",
      "189:\tlearn: 0.5970735\ttotal: 862ms\tremaining: 45.4ms\n",
      "190:\tlearn: 0.5969656\ttotal: 866ms\tremaining: 40.8ms\n",
      "191:\tlearn: 0.5969601\ttotal: 870ms\tremaining: 36.3ms\n",
      "192:\tlearn: 0.5968092\ttotal: 875ms\tremaining: 31.7ms\n",
      "193:\tlearn: 0.5966818\ttotal: 879ms\tremaining: 27.2ms\n",
      "194:\tlearn: 0.5966276\ttotal: 883ms\tremaining: 22.6ms\n",
      "195:\tlearn: 0.5964947\ttotal: 888ms\tremaining: 18.1ms\n",
      "196:\tlearn: 0.5963310\ttotal: 892ms\tremaining: 13.6ms\n",
      "197:\tlearn: 0.5962124\ttotal: 897ms\tremaining: 9.06ms\n",
      "198:\tlearn: 0.5960483\ttotal: 901ms\tremaining: 4.53ms\n",
      "199:\tlearn: 0.5959320\ttotal: 906ms\tremaining: 0us\n",
      "AUC:0.675\n",
      "accuracy:0.618\n",
      "recall:0.667\n",
      "precision:0.462\n",
      "specificity:0.592\n",
      "prevalence:0.344\n",
      " \n"
     ]
    }
   ],
   "source": [
    "catb=CatBoostClassifier(iterations=200, depth=3, learning_rate=1.0, random_state = 111)\n",
    "catb.fit(X_train, y_train)\n",
    "catb_preds = catb.predict_proba(X_valid)[:, 1]\n",
    "\n",
    "lr_valid_auc, lr_valid_accuracy, lr_valid_recall, \\\n",
    "    lr_valid_precision, lr_valid_specificity = print_report(y_valid,catb_preds, 0.5)"
   ]
  },
  {
   "cell_type": "markdown",
   "id": "e6128b0e",
   "metadata": {},
   "source": [
    "# Hyper Parameter Tuning"
   ]
  },
  {
   "cell_type": "markdown",
   "id": "6ccb5ce3",
   "metadata": {},
   "source": [
    "* From the above models we will choose two models for demonstration i.e. Random Forest, Decision Trees for hyper-parameter tuning.\n",
    "* Generally you can pick up the top three models based on the 'AUC', 'Recall' or 'F1 score' score and tune them.\n",
    "\n",
    "There are many techniques for hyper-parameter tuning:\n",
    "\n",
    "* Random Search\n",
    "* Grid Search\n",
    "* Halving Grid Search(added recently in sklearn)\n",
    "\n",
    "Special Note:\n",
    "* It will take significant time to run Hyper Parameter Tuning \n",
    "* Timing will depend on available resources of server"
   ]
  },
  {
   "cell_type": "code",
   "execution_count": 127,
   "id": "367dc1c8",
   "metadata": {},
   "outputs": [],
   "source": [
    "recall_scoring = make_scorer(recall_score)"
   ]
  },
  {
   "cell_type": "markdown",
   "id": "2f75172b",
   "metadata": {},
   "source": [
    "## Decision Tree - Hyper Parameter Tuning"
   ]
  },
  {
   "cell_type": "code",
   "execution_count": 128,
   "id": "c4a7af70",
   "metadata": {},
   "outputs": [
    {
     "name": "stdout",
     "output_type": "stream",
     "text": [
      "Fitting 2 folds for each of 20 candidates, totalling 40 fits\n"
     ]
    },
    {
     "data": {
      "text/plain": [
       "0.5297404172914284"
      ]
     },
     "execution_count": 128,
     "metadata": {},
     "output_type": "execute_result"
    }
   ],
   "source": [
    "dc_grid = {'max_features':['auto','sqrt'], # maximum number of features to use at each split\n",
    "           'max_depth':range(1,11,1), # maximum depth of the tree\n",
    "           'min_samples_split':range(2,10,2), # minimum number of samples to split a node\n",
    "           'criterion':['gini','entropy']} # criterion for evaluating a split\n",
    "\n",
    "dc_random = RandomizedSearchCV(estimator = dc_clf, param_distributions = dc_grid, \n",
    "                               n_iter = 20, cv = 2, scoring=recall_scoring,\n",
    "                               verbose = 1, random_state = 111)\n",
    "\n",
    "dc_random.fit(X_train, y_train)\n",
    "\n",
    "dc_random.best_params_\n",
    "\n",
    "dc_hp_preds = dc_random.best_estimator_.predict(X_valid)\n",
    "dc_hp_preds_proba = dc_random.best_estimator_.predict_proba(X_valid)[:,1]\n",
    "roc_auc_score(y_valid, dc_hp_preds_proba)"
   ]
  },
  {
   "cell_type": "code",
   "execution_count": 129,
   "id": "9af302e1",
   "metadata": {},
   "outputs": [
    {
     "data": {
      "text/plain": [
       "0.7859996195548792"
      ]
     },
     "execution_count": 129,
     "metadata": {},
     "output_type": "execute_result"
    }
   ],
   "source": [
    "recall_score(y_valid, dc_hp_preds)"
   ]
  },
  {
   "cell_type": "markdown",
   "id": "588787d3",
   "metadata": {},
   "source": [
    "## Random Forest - Hyper Parameter Tuning"
   ]
  },
  {
   "cell_type": "code",
   "execution_count": 130,
   "id": "d7f41f64",
   "metadata": {},
   "outputs": [
    {
     "name": "stdout",
     "output_type": "stream",
     "text": [
      "Fitting 2 folds for each of 20 candidates, totalling 40 fits\n"
     ]
    },
    {
     "data": {
      "text/plain": [
       "0.6822174750213146"
      ]
     },
     "execution_count": 130,
     "metadata": {},
     "output_type": "execute_result"
    }
   ],
   "source": [
    "rf_grid = {'n_estimators':range(200,1000,200), # number of trees\n",
    "           'max_features':['auto','sqrt'], # maximum number of features to use at each split\n",
    "           'max_depth':range(1,11,1), # maximum depth of the tree\n",
    "           'min_samples_split':range(2,10,2), # minimum number of samples to split a node\n",
    "           'criterion':['gini','entropy']} # criterion for evaluating a split\n",
    "\n",
    "rf_random = RandomizedSearchCV(estimator = rf_clf, param_distributions = rf_grid, \n",
    "                               n_iter = 20, cv = 2, scoring=recall_scoring,\n",
    "                               verbose = 1, random_state = 111)\n",
    "\n",
    "rf_random.fit(X_train, y_train)\n",
    "\n",
    "rf_random.best_params_\n",
    "\n",
    "rf_hp_preds = rf_random.best_estimator_.predict(X_valid)\n",
    "rf_hp_preds_proba = rf_random.best_estimator_.predict_proba(X_valid)[:,1]\n",
    "roc_auc_score(y_valid, rf_hp_preds_proba)"
   ]
  },
  {
   "cell_type": "code",
   "execution_count": 131,
   "id": "8e9765ce",
   "metadata": {},
   "outputs": [
    {
     "data": {
      "text/plain": [
       "0.6920296747194217"
      ]
     },
     "execution_count": 131,
     "metadata": {},
     "output_type": "execute_result"
    }
   ],
   "source": [
    "recall_score(y_valid, rf_hp_preds)"
   ]
  },
  {
   "cell_type": "markdown",
   "id": "1d26f2a0",
   "metadata": {},
   "source": [
    "## XGBoost - Hyper Parameter Tuning"
   ]
  },
  {
   "cell_type": "code",
   "execution_count": 132,
   "id": "7bd2859b",
   "metadata": {},
   "outputs": [],
   "source": [
    "# xgb_grid = params = {\n",
    "#         'min_child_weight': [1, 5, 8, 10],\n",
    "#         'gamma': [0.5, 1, 1.5, 2, 5],\n",
    "#         'subsample': [0.6, 0.8, 1.0],\n",
    "#         'colsample_bytree': [0.6, 0.8, 0.9, 1.0],\n",
    "#         'max_depth': [3, 4, 5]\n",
    "#         } # criterion for evaluating a split\n",
    "\n",
    "# xgb_random = GridSearchCV(estimator = xgb_clf, param_grid = xgb_grid, \n",
    "#                                cv = 2, scoring = recall_scoring,\n",
    "#                                verbose = 1)\n",
    "\n",
    "# xgb_random.fit(X_train, y_train)\n",
    "\n",
    "# xgb_random.best_params_\n",
    "\n",
    "# xgb_hp_preds = xgb_random.best_estimator_.predict(X_valid)\n",
    "# xgb_hp_preds_proba = xgb_random.best_estimator_.predict_proba(X_valid)[:,1]\n",
    "# roc_auc_score(y_valid, xgb_hp_preds_proba)"
   ]
  },
  {
   "cell_type": "code",
   "execution_count": 133,
   "id": "5f6d46c6",
   "metadata": {},
   "outputs": [],
   "source": [
    "# recall_score(y_valid, xgb_hp_preds)"
   ]
  }
 ],
 "metadata": {
  "kernelspec": {
   "display_name": "env",
   "language": "python",
   "name": "python3"
  },
  "language_info": {
   "codemirror_mode": {
    "name": "ipython",
    "version": 3
   },
   "file_extension": ".py",
   "mimetype": "text/x-python",
   "name": "python",
   "nbconvert_exporter": "python",
   "pygments_lexer": "ipython3",
   "version": "3.9.4"
  },
  "vscode": {
   "interpreter": {
    "hash": "43dbda674042127dbd4f9343b1c057265239bc978a327eaddcf7b25ec0d1ff26"
   }
  }
 },
 "nbformat": 4,
 "nbformat_minor": 5
}
